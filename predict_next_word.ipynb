{
  "cells": [
    {
      "cell_type": "code",
      "execution_count": 2,
      "metadata": {
        "id": "1Lz9tJkc1to8"
      },
      "outputs": [],
      "source": [
        "import numpy as np\n",
        "import pickle\n",
        "\n",
        "from tensorflow.keras.preprocessing.sequence import pad_sequences\n",
        "from tensorflow.keras.models import Sequential\n",
        "from tensorflow.keras.layers import LSTM, Dense, Dropout, Embedding\n",
        "\n",
        "# Load the dataset\n",
        "# Load the training data\n",
        "dataset = pickle.load(open('/content/drive/MyDrive/Colab Notebooks/project3/DS_5_train_input', 'rb'))\n",
        "dataset_input = pickle.load(open('/content/drive/MyDrive/Colab Notebooks/project3/DS_5_train_input_prefixList', 'rb'))\n",
        "dataset_output = pickle.load(open('/content/drive/MyDrive/Colab Notebooks/project3/DS_5_train_input_nextWord', 'rb'))\n"
      ]
    },
    {
      "cell_type": "code",
      "source": [
        "from google.colab import drive\n",
        "drive.mount('/content/drive')"
      ],
      "metadata": {
        "colab": {
          "base_uri": "https://localhost:8080/"
        },
        "id": "2FBT-ujfUIpt",
        "outputId": "ed67d5d0-d5d6-42b1-d96c-8e80042186d1"
      },
      "execution_count": 1,
      "outputs": [
        {
          "output_type": "stream",
          "name": "stdout",
          "text": [
            "Mounted at /content/drive\n"
          ]
        }
      ]
    },
    {
      "cell_type": "code",
      "execution_count": 3,
      "metadata": {
        "id": "Nt1pjO2Iy7in"
      },
      "outputs": [],
      "source": [
        "# Split into train and test sets\n",
        "test_input = dataset_input[4500:]\n",
        "test_output = dataset_output[4500:]\n",
        "\n",
        "dataset_input = dataset_input[:4500]\n",
        "dataset_output = dataset_output[:4500]"
      ]
    },
    {
      "cell_type": "code",
      "execution_count": 18,
      "metadata": {
        "colab": {
          "base_uri": "https://localhost:8080/"
        },
        "id": "DoB7X_gn1ZPZ",
        "outputId": "a4e620f3-abd0-45c8-919d-a1b29a70757c"
      },
      "outputs": [
        {
          "output_type": "execute_result",
          "data": {
            "text/plain": [
              "25051"
            ]
          },
          "metadata": {},
          "execution_count": 18
        }
      ],
      "source": [
        "len(dataset_input)"
      ]
    },
    {
      "cell_type": "code",
      "source": [
        "i=100\n",
        "\n",
        "print(dataset[4500+i])\n",
        "print(' '.join(test_input[i]))"
      ],
      "metadata": {
        "colab": {
          "base_uri": "https://localhost:8080/"
        },
        "id": "WWEtJPEXe7mB",
        "outputId": "7ff45144-b77b-4b98-dc1c-923d8a5c8bcc"
      },
      "execution_count": 7,
      "outputs": [
        {
          "output_type": "stream",
          "name": "stdout",
          "text": [
            "a h a k b g a f b g c e b g a f c d a i a h c f b d c f b d a e b g \n",
            "a h a k b g a f b g c e b g a f c d a i a h c\n"
          ]
        }
      ]
    },
    {
      "cell_type": "code",
      "execution_count": 16,
      "metadata": {
        "id": "snm0CCKOLAOT"
      },
      "outputs": [],
      "source": [
        "#generating new dataset\n",
        "\n",
        "import random\n",
        "# dataset_2 = []\n",
        "# dataset_output_2=[]\n",
        "\n",
        "for sentence in dataset[:4500]:\n",
        "  sent_list = sentence.split(\" \")\n",
        "  random_num = random.randint(1, len(sent_list) - 2)\n",
        "  #print(random_num)\n",
        "  dataset_input.append(sent_list[:random_num])\n",
        "  dataset_output.append(sent_list[random_num])\n",
        "# print(dataset[:5])\n",
        "# print(dataset_2)\n",
        "# print(dataset_output_2)\n",
        "\n",
        "\n"
      ]
    },
    {
      "cell_type": "code",
      "source": [
        "for sentence in dataset[:4500]:\n",
        "  sent_list = sentence.split(\" \")\n",
        "  # random_start = random.randint(1, int(len(sent_list)/4))\n",
        "  # random_end = random.randint(int(len(sent_list)/4), int(len(sent_list)*3/4))\n",
        "  random_start = random.randint(0, len(sent_list)-2)\n",
        "  random_end = random.randint(2, len(sent_list)-1)\n",
        "  #print(random_num)\n",
        "  subseq = sent_list[random_start:random_end]\n",
        "  if len(subseq) > 0:\n",
        "    dataset_input.append(sent_list[random_start:random_end])\n",
        "    dataset_output.append(sent_list[random_end])"
      ],
      "metadata": {
        "id": "wP4yL_IsMBqa"
      },
      "execution_count": 17,
      "outputs": []
    },
    {
      "cell_type": "code",
      "execution_count": 19,
      "metadata": {
        "colab": {
          "base_uri": "https://localhost:8080/"
        },
        "id": "hjca2MzJOC9S",
        "outputId": "7417affa-8a81-4499-f562-834d11b6bc7f"
      },
      "outputs": [
        {
          "output_type": "execute_result",
          "data": {
            "text/plain": [
              "25051"
            ]
          },
          "metadata": {},
          "execution_count": 19
        }
      ],
      "source": [
        "len(dataset_input)"
      ]
    },
    {
      "cell_type": "code",
      "execution_count": null,
      "metadata": {
        "id": "30L_2V754uK9"
      },
      "outputs": [],
      "source": [
        "#dataset_test = pickle.load(open('/content/drive/MyDrive/Colab Notebooks/project3/DS_6_test_input_prefixList', 'rb'))"
      ]
    },
    {
      "cell_type": "code",
      "execution_count": null,
      "metadata": {
        "id": "b0Gw00vV88n5"
      },
      "outputs": [],
      "source": [
        "dataset_input[0]"
      ]
    },
    {
      "cell_type": "code",
      "execution_count": 20,
      "metadata": {
        "id": "CgFrccJe_aGu"
      },
      "outputs": [],
      "source": [
        "input_sentences = []\n",
        "\n",
        "for sentence in dataset_input:\n",
        "  input_sentences.append(' '.join(sentence))"
      ]
    },
    {
      "cell_type": "code",
      "execution_count": null,
      "metadata": {
        "colab": {
          "base_uri": "https://localhost:8080/",
          "height": 35
        },
        "id": "_UBtnw44_uP7",
        "outputId": "7060ee90-e504-43b9-ec52-ad7566e0a91f"
      },
      "outputs": [
        {
          "data": {
            "application/vnd.google.colaboratory.intrinsic+json": {
              "type": "string"
            },
            "text/plain": [
              "'a g b f a f a e a k a j c f b f c d a k'"
            ]
          },
          "execution_count": 7,
          "metadata": {},
          "output_type": "execute_result"
        }
      ],
      "source": [
        "input_sentences[0]"
      ]
    },
    {
      "cell_type": "code",
      "execution_count": 21,
      "metadata": {
        "id": "QB-NjH8SQ3TJ"
      },
      "outputs": [],
      "source": [
        "import tensorflow as tf\n",
        "\n",
        "dataset = tf.data.Dataset.from_tensor_slices(input_sentences)\n",
        "\n",
        "batch_size = 256\n",
        "batched_dataset = dataset.batch(batch_size)"
      ]
    },
    {
      "cell_type": "code",
      "execution_count": 22,
      "metadata": {
        "id": "en0i56cUFO8a"
      },
      "outputs": [],
      "source": [
        "# Preparing a TextVectorization layer\n",
        "\n",
        "from tensorflow.keras.layers import TextVectorization\n",
        "\n",
        "sequence_length = 200\n",
        "vocab_size = 12\n",
        "text_vectorization = TextVectorization(\n",
        "    max_tokens=vocab_size,\n",
        "    output_mode=\"int\",\n",
        "    output_sequence_length=sequence_length,\n",
        ")\n",
        "text_vectorization.adapt(batched_dataset)"
      ]
    },
    {
      "cell_type": "code",
      "execution_count": 23,
      "metadata": {
        "id": "4YRs4_7rGj9W"
      },
      "outputs": [],
      "source": [
        "#Setting up a language modeling dataset\n",
        "\n",
        "def prepare_lm_dataset(text_batch):\n",
        "    vectorized_sequences = text_vectorization(text_batch)\n",
        "    x = vectorized_sequences[:, :-1]\n",
        "    y = vectorized_sequences[:, 1:]\n",
        "    return x, y\n",
        "\n",
        "lm_dataset = batched_dataset.map(prepare_lm_dataset, num_parallel_calls=4)"
      ]
    },
    {
      "cell_type": "code",
      "execution_count": 24,
      "metadata": {
        "id": "tDQSlS3bo63P"
      },
      "outputs": [],
      "source": [
        "#dividing dataset into training and validation\n",
        "# Define the size of the validation set as a fraction of the total dataset\n",
        "val_size = 0.25 \n",
        "\n",
        "# Calculate the number of elements in the validation set\n",
        "val_steps = int(val_size * lm_dataset.cardinality().numpy())\n",
        "\n",
        "# Calculate the number of elements in the training set\n",
        "train_steps = lm_dataset.cardinality().numpy() - val_steps\n",
        "\n",
        "# Split the dataset into training and validation\n",
        "val_dataset = lm_dataset.take(val_steps)\n",
        "train_dataset = lm_dataset.skip(val_steps)\n"
      ]
    },
    {
      "cell_type": "code",
      "execution_count": 25,
      "metadata": {
        "id": "fzy2jhyBG_iF"
      },
      "outputs": [],
      "source": [
        "#A Transformer-based sequence-to-sequence model\n",
        "import tensorflow as tf\n",
        "from tensorflow.keras import layers\n",
        "\n",
        "class PositionalEmbedding(layers.Layer):\n",
        "    def __init__(self, sequence_length, input_dim, output_dim, **kwargs):\n",
        "        super().__init__(**kwargs)\n",
        "        self.token_embeddings = layers.Embedding(\n",
        "            input_dim=input_dim, output_dim=output_dim)\n",
        "        self.position_embeddings = layers.Embedding(\n",
        "            input_dim=sequence_length, output_dim=output_dim)\n",
        "        self.sequence_length = sequence_length\n",
        "        self.input_dim = input_dim\n",
        "        self.output_dim = output_dim\n",
        "\n",
        "    def call(self, inputs):\n",
        "        length = tf.shape(inputs)[-1]\n",
        "        positions = tf.range(start=0, limit=length, delta=1)\n",
        "        embedded_tokens = self.token_embeddings(inputs)\n",
        "        embedded_positions = self.position_embeddings(positions)\n",
        "        return embedded_tokens + embedded_positions\n",
        "\n",
        "    def compute_mask(self, inputs, mask=None):\n",
        "        return tf.math.not_equal(inputs, 0)\n",
        "\n",
        "    def get_config(self):\n",
        "        config = super(PositionalEmbedding, self).get_config()\n",
        "        config.update({\n",
        "            \"output_dim\": self.output_dim,\n",
        "            \"sequence_length\": self.sequence_length,\n",
        "            \"input_dim\": self.input_dim,\n",
        "        })\n",
        "        return config\n",
        "\n",
        "\n",
        "class TransformerDecoder(layers.Layer):\n",
        "    def __init__(self, embed_dim, dense_dim, num_heads, **kwargs):\n",
        "        super().__init__(**kwargs)\n",
        "        self.embed_dim = embed_dim\n",
        "        self.dense_dim = dense_dim\n",
        "        self.num_heads = num_heads\n",
        "        self.attention_1 = layers.MultiHeadAttention(\n",
        "          num_heads=num_heads, key_dim=embed_dim)\n",
        "        self.attention_2 = layers.MultiHeadAttention(\n",
        "          num_heads=num_heads, key_dim=embed_dim)\n",
        "        #new layer 3\n",
        "        # self.attention_3 = layers.MultiHeadAttention(\n",
        "        #   num_heads=num_heads, key_dim=embed_dim)\n",
        "        \n",
        "        # self.dense_proj = keras.Sequential(\n",
        "        #     [layers.Dense(dense_dim, activation=\"relu\"),\n",
        "        #      layers.Dense(embed_dim),]\n",
        "        # )\n",
        "        self.dense_proj = keras.Sequential([\n",
        "            layers.Dense(dense_dim, activation=\"relu\"),\n",
        "            layers.Dropout(0.2),\n",
        "            layers.Dense(dense_dim, activation=\"relu\"),\n",
        "            layers.Dropout(0.2),\n",
        "            layers.Dense(embed_dim)\n",
        "          ])\n",
        "        self.layernorm_1 = layers.LayerNormalization()\n",
        "        self.layernorm_2 = layers.LayerNormalization()\n",
        "        self.layernorm_3 = layers.LayerNormalization()\n",
        "        #new added\n",
        "        # self.layernorm_4 = layers.LayerNormalization()\n",
        "        self.supports_masking = True\n",
        "\n",
        "    def get_config(self):\n",
        "        config = super(TransformerDecoder, self).get_config()\n",
        "        config.update({\n",
        "            \"embed_dim\": self.embed_dim,\n",
        "            \"num_heads\": self.num_heads,\n",
        "            \"dense_dim\": self.dense_dim,\n",
        "        })\n",
        "        return config\n",
        "\n",
        "    def get_causal_attention_mask(self, inputs):\n",
        "        input_shape = tf.shape(inputs)\n",
        "        batch_size, sequence_length = input_shape[0], input_shape[1]\n",
        "        i = tf.range(sequence_length)[:, tf.newaxis]\n",
        "        j = tf.range(sequence_length)\n",
        "        mask = tf.cast(i >= j, dtype=\"int32\")\n",
        "        mask = tf.reshape(mask, (1, input_shape[1], input_shape[1]))\n",
        "        mult = tf.concat(\n",
        "            [tf.expand_dims(batch_size, -1),\n",
        "             tf.constant([1, 1], dtype=tf.int32)], axis=0)\n",
        "        return tf.tile(mask, mult)\n",
        "\n",
        "    def call(self, inputs, encoder_outputs, mask=None):\n",
        "        causal_mask = self.get_causal_attention_mask(inputs)\n",
        "        if mask is not None:\n",
        "            padding_mask = tf.cast(\n",
        "                mask[:, tf.newaxis, :], dtype=\"int32\")\n",
        "            padding_mask = tf.minimum(padding_mask, causal_mask)\n",
        "        else:\n",
        "            padding_mask = mask\n",
        "        attention_output_1 = self.attention_1(\n",
        "            query=inputs,\n",
        "            value=inputs,\n",
        "            key=inputs,\n",
        "            attention_mask=causal_mask)\n",
        "        attention_output_1 = self.layernorm_1(inputs + attention_output_1)\n",
        "        attention_output_2 = self.attention_2(\n",
        "            query=attention_output_1,\n",
        "            value=encoder_outputs,\n",
        "            key=encoder_outputs,\n",
        "            attention_mask=padding_mask,\n",
        "        )\n",
        "        attention_output_2 = self.layernorm_2(\n",
        "            attention_output_1 + attention_output_2)\n",
        "        proj_output = self.dense_proj(attention_output_2)\n",
        "        return self.layernorm_3(attention_output_2 + proj_output)\n",
        "        #new added\n",
        "        # attention_output_3 = self.attention_3(\n",
        "        #     query=attention_output_2,\n",
        "        #     value=encoder_outputs,\n",
        "        #     key=encoder_outputs,\n",
        "        #     attention_mask=padding_mask,\n",
        "        # )\n",
        "        # attention_output_3 = self.layernorm_3(\n",
        "        #     attention_output_3 + attention_output_3)\n",
        "        # proj_output = self.dense_proj(attention_output_3)\n",
        "        # return self.layernorm_3(attention_output_3 + proj_output)"
      ]
    },
    {
      "cell_type": "code",
      "execution_count": 26,
      "metadata": {
        "id": "TuU6Y2UeHWNE"
      },
      "outputs": [],
      "source": [
        "# A simple Transformer-based language model\n",
        "from tensorflow import keras\n",
        "from tensorflow.keras import layers\n",
        "embed_dim = 256\n",
        "latent_dim = 2048\n",
        "num_heads = 2\n",
        "\n",
        "inputs = keras.Input(shape=(None,), dtype=\"int64\")\n",
        "x = PositionalEmbedding(sequence_length, vocab_size, embed_dim)(inputs)\n",
        "x = TransformerDecoder(embed_dim, latent_dim, num_heads)(x, x)\n",
        "outputs = layers.Dense(vocab_size, activation=\"softmax\")(x)\n",
        "model = keras.Model(inputs, outputs)\n",
        "#model.compile(loss=\"sparse_categorical_crossentropy\", optimizer=\"rmsprop\")"
      ]
    },
    {
      "cell_type": "code",
      "execution_count": 27,
      "metadata": {
        "colab": {
          "base_uri": "https://localhost:8080/"
        },
        "id": "9pWld4z7nasr",
        "outputId": "3a09dc25-9255-4d95-ca2a-f9fea9af9a66"
      },
      "outputs": [
        {
          "output_type": "stream",
          "name": "stdout",
          "text": [
            "Epoch 1/200\n",
            "74/74 [==============================] - 61s 665ms/step - loss: 1.8059 - accuracy: 0.3037 - val_loss: 1.5022 - val_accuracy: 0.3432\n",
            "Epoch 2/200\n",
            "74/74 [==============================] - 49s 667ms/step - loss: 1.5253 - accuracy: 0.3257 - val_loss: 1.4999 - val_accuracy: 0.3457\n",
            "Epoch 3/200\n",
            "74/74 [==============================] - 51s 684ms/step - loss: 1.5234 - accuracy: 0.3268 - val_loss: 1.4999 - val_accuracy: 0.3466\n",
            "Epoch 4/200\n",
            "74/74 [==============================] - 52s 700ms/step - loss: 1.5230 - accuracy: 0.3272 - val_loss: 1.5017 - val_accuracy: 0.3457\n",
            "Epoch 5/200\n",
            "74/74 [==============================] - 51s 693ms/step - loss: 1.5233 - accuracy: 0.3272 - val_loss: 1.5074 - val_accuracy: 0.3390\n",
            "Epoch 6/200\n",
            "74/74 [==============================] - 51s 685ms/step - loss: 1.5244 - accuracy: 0.3266 - val_loss: 1.5212 - val_accuracy: 0.3207\n",
            "Epoch 7/200\n",
            "74/74 [==============================] - 56s 762ms/step - loss: 1.5272 - accuracy: 0.3227 - val_loss: 1.5578 - val_accuracy: 0.2695\n",
            "Epoch 8/200\n",
            "74/74 [==============================] - 51s 686ms/step - loss: 1.5269 - accuracy: 0.3232 - val_loss: 1.5754 - val_accuracy: 0.2398\n",
            "Epoch 9/200\n",
            "74/74 [==============================] - 56s 756ms/step - loss: 1.5266 - accuracy: 0.3222 - val_loss: 1.5516 - val_accuracy: 0.2893\n",
            "Epoch 10/200\n",
            "74/74 [==============================] - 52s 698ms/step - loss: 1.5227 - accuracy: 0.3247 - val_loss: 1.5504 - val_accuracy: 0.2905\n",
            "Epoch 11/200\n",
            "74/74 [==============================] - 51s 696ms/step - loss: 1.5219 - accuracy: 0.3254 - val_loss: 1.5513 - val_accuracy: 0.2905\n",
            "Epoch 12/200\n",
            "74/74 [==============================] - 51s 683ms/step - loss: 1.5219 - accuracy: 0.3251 - val_loss: 1.5481 - val_accuracy: 0.2919\n",
            "Epoch 13/200\n",
            "74/74 [==============================] - 57s 764ms/step - loss: 1.5216 - accuracy: 0.3251 - val_loss: 1.5486 - val_accuracy: 0.2889\n",
            "Epoch 14/200\n",
            "74/74 [==============================] - 51s 692ms/step - loss: 1.5220 - accuracy: 0.3256 - val_loss: 1.5466 - val_accuracy: 0.2906\n",
            "Epoch 15/200\n",
            "74/74 [==============================] - 51s 695ms/step - loss: 1.5213 - accuracy: 0.3260 - val_loss: 1.5453 - val_accuracy: 0.2928\n",
            "Epoch 16/200\n",
            "74/74 [==============================] - 51s 685ms/step - loss: 1.5204 - accuracy: 0.3277 - val_loss: 1.5423 - val_accuracy: 0.2946\n",
            "Epoch 17/200\n",
            "74/74 [==============================] - 51s 696ms/step - loss: 1.5189 - accuracy: 0.3289 - val_loss: 1.5361 - val_accuracy: 0.3013\n",
            "Epoch 18/200\n",
            "74/74 [==============================] - 51s 684ms/step - loss: 1.5175 - accuracy: 0.3302 - val_loss: 1.5337 - val_accuracy: 0.3047\n",
            "Epoch 19/200\n",
            "74/74 [==============================] - 51s 687ms/step - loss: 1.5165 - accuracy: 0.3313 - val_loss: 1.5255 - val_accuracy: 0.3109\n",
            "Epoch 20/200\n",
            "74/74 [==============================] - 55s 752ms/step - loss: 1.5154 - accuracy: 0.3325 - val_loss: 1.5208 - val_accuracy: 0.3152\n",
            "Epoch 21/200\n",
            "74/74 [==============================] - 51s 688ms/step - loss: 1.5138 - accuracy: 0.3334 - val_loss: 1.5222 - val_accuracy: 0.3180\n",
            "Epoch 22/200\n",
            "74/74 [==============================] - 51s 684ms/step - loss: 1.5130 - accuracy: 0.3341 - val_loss: 1.5185 - val_accuracy: 0.3209\n",
            "Epoch 23/200\n",
            "74/74 [==============================] - 51s 688ms/step - loss: 1.5115 - accuracy: 0.3356 - val_loss: 1.5164 - val_accuracy: 0.3233\n",
            "Epoch 24/200\n",
            "74/74 [==============================] - 51s 694ms/step - loss: 1.5104 - accuracy: 0.3366 - val_loss: 1.5152 - val_accuracy: 0.3246\n",
            "Epoch 25/200\n",
            "74/74 [==============================] - 55s 751ms/step - loss: 1.5095 - accuracy: 0.3370 - val_loss: 1.5138 - val_accuracy: 0.3277\n",
            "Epoch 26/200\n",
            "74/74 [==============================] - 51s 689ms/step - loss: 1.5083 - accuracy: 0.3375 - val_loss: 1.5133 - val_accuracy: 0.3264\n",
            "Epoch 27/200\n",
            "74/74 [==============================] - 55s 751ms/step - loss: 1.5074 - accuracy: 0.3384 - val_loss: 1.5123 - val_accuracy: 0.3303\n",
            "Epoch 28/200\n",
            "74/74 [==============================] - 51s 694ms/step - loss: 1.5066 - accuracy: 0.3396 - val_loss: 1.5098 - val_accuracy: 0.3317\n",
            "Epoch 29/200\n",
            "74/74 [==============================] - 51s 683ms/step - loss: 1.5051 - accuracy: 0.3409 - val_loss: 1.5104 - val_accuracy: 0.3319\n",
            "Epoch 30/200\n",
            "74/74 [==============================] - 51s 694ms/step - loss: 1.5040 - accuracy: 0.3420 - val_loss: 1.5110 - val_accuracy: 0.3315\n",
            "Epoch 31/200\n",
            "74/74 [==============================] - 51s 684ms/step - loss: 1.5025 - accuracy: 0.3434 - val_loss: 1.5123 - val_accuracy: 0.3306\n",
            "Epoch 32/200\n",
            "74/74 [==============================] - 51s 687ms/step - loss: 1.5012 - accuracy: 0.3446 - val_loss: 1.5124 - val_accuracy: 0.3314\n",
            "Epoch 33/200\n",
            "74/74 [==============================] - 55s 751ms/step - loss: 1.5002 - accuracy: 0.3451 - val_loss: 1.5155 - val_accuracy: 0.3289\n",
            "Epoch 34/200\n",
            "74/74 [==============================] - 51s 687ms/step - loss: 1.4989 - accuracy: 0.3466 - val_loss: 1.5137 - val_accuracy: 0.3301\n",
            "Epoch 35/200\n",
            "74/74 [==============================] - 51s 686ms/step - loss: 1.4967 - accuracy: 0.3485 - val_loss: 1.5120 - val_accuracy: 0.3323\n",
            "Epoch 36/200\n",
            "74/74 [==============================] - 51s 691ms/step - loss: 1.4942 - accuracy: 0.3500 - val_loss: 1.5111 - val_accuracy: 0.3350\n",
            "Epoch 37/200\n",
            "74/74 [==============================] - 51s 690ms/step - loss: 1.4917 - accuracy: 0.3524 - val_loss: 1.5143 - val_accuracy: 0.3317\n",
            "Epoch 38/200\n",
            "74/74 [==============================] - 56s 757ms/step - loss: 1.4893 - accuracy: 0.3550 - val_loss: 1.5122 - val_accuracy: 0.3352\n",
            "Epoch 39/200\n",
            "74/74 [==============================] - 51s 690ms/step - loss: 1.4855 - accuracy: 0.3581 - val_loss: 1.5090 - val_accuracy: 0.3404\n",
            "Epoch 40/200\n",
            "74/74 [==============================] - 51s 690ms/step - loss: 1.4812 - accuracy: 0.3613 - val_loss: 1.5091 - val_accuracy: 0.3420\n",
            "Epoch 41/200\n",
            "74/74 [==============================] - 51s 684ms/step - loss: 1.4765 - accuracy: 0.3649 - val_loss: 1.5076 - val_accuracy: 0.3454\n",
            "Epoch 42/200\n",
            "74/74 [==============================] - 51s 687ms/step - loss: 1.4707 - accuracy: 0.3687 - val_loss: 1.5040 - val_accuracy: 0.3494\n",
            "Epoch 43/200\n",
            "74/74 [==============================] - 55s 751ms/step - loss: 1.4648 - accuracy: 0.3728 - val_loss: 1.5030 - val_accuracy: 0.3512\n",
            "Epoch 44/200\n",
            "74/74 [==============================] - 51s 687ms/step - loss: 1.4616 - accuracy: 0.3758 - val_loss: 1.4977 - val_accuracy: 0.3525\n",
            "Epoch 45/200\n",
            "74/74 [==============================] - 51s 688ms/step - loss: 1.4576 - accuracy: 0.3792 - val_loss: 1.4893 - val_accuracy: 0.3576\n",
            "Epoch 46/200\n",
            "74/74 [==============================] - 50s 682ms/step - loss: 1.4545 - accuracy: 0.3826 - val_loss: 1.4866 - val_accuracy: 0.3658\n",
            "Epoch 47/200\n",
            "74/74 [==============================] - 51s 686ms/step - loss: 1.4487 - accuracy: 0.3862 - val_loss: 1.4840 - val_accuracy: 0.3653\n",
            "Epoch 48/200\n",
            "74/74 [==============================] - 51s 683ms/step - loss: 1.4448 - accuracy: 0.3878 - val_loss: 1.4899 - val_accuracy: 0.3650\n",
            "Epoch 49/200\n",
            "74/74 [==============================] - 51s 683ms/step - loss: 1.4349 - accuracy: 0.3926 - val_loss: 1.4714 - val_accuracy: 0.3770\n",
            "Epoch 50/200\n",
            "74/74 [==============================] - 50s 682ms/step - loss: 1.4258 - accuracy: 0.3983 - val_loss: 1.4731 - val_accuracy: 0.3744\n",
            "Epoch 51/200\n",
            "74/74 [==============================] - 50s 683ms/step - loss: 1.4199 - accuracy: 0.4025 - val_loss: 1.4673 - val_accuracy: 0.3836\n",
            "Epoch 52/200\n",
            "74/74 [==============================] - 51s 684ms/step - loss: 1.4104 - accuracy: 0.4093 - val_loss: 1.4700 - val_accuracy: 0.3859\n",
            "Epoch 53/200\n",
            "74/74 [==============================] - 51s 689ms/step - loss: 1.4045 - accuracy: 0.4113 - val_loss: 1.4774 - val_accuracy: 0.3835\n",
            "Epoch 54/200\n",
            "74/74 [==============================] - 50s 681ms/step - loss: 1.4016 - accuracy: 0.4133 - val_loss: 1.4930 - val_accuracy: 0.3753\n",
            "Epoch 55/200\n",
            "74/74 [==============================] - 51s 687ms/step - loss: 1.4064 - accuracy: 0.4116 - val_loss: 1.4760 - val_accuracy: 0.3836\n",
            "Epoch 56/200\n",
            "74/74 [==============================] - 56s 757ms/step - loss: 1.3941 - accuracy: 0.4172 - val_loss: 1.4503 - val_accuracy: 0.3991\n",
            "Epoch 57/200\n",
            "74/74 [==============================] - 50s 682ms/step - loss: 1.3918 - accuracy: 0.4195 - val_loss: 1.4463 - val_accuracy: 0.4061\n",
            "Epoch 58/200\n",
            "74/74 [==============================] - 51s 690ms/step - loss: 1.3862 - accuracy: 0.4219 - val_loss: 1.4379 - val_accuracy: 0.4120\n",
            "Epoch 59/200\n",
            "74/74 [==============================] - 50s 681ms/step - loss: 1.3708 - accuracy: 0.4311 - val_loss: 1.4540 - val_accuracy: 0.4082\n",
            "Epoch 60/200\n",
            "74/74 [==============================] - 51s 686ms/step - loss: 1.3459 - accuracy: 0.4430 - val_loss: 1.4736 - val_accuracy: 0.4004\n",
            "Epoch 61/200\n",
            "74/74 [==============================] - 51s 689ms/step - loss: 1.3236 - accuracy: 0.4538 - val_loss: 1.4564 - val_accuracy: 0.4117\n",
            "Epoch 62/200\n",
            "74/74 [==============================] - 50s 681ms/step - loss: 1.3103 - accuracy: 0.4603 - val_loss: 1.4362 - val_accuracy: 0.4241\n",
            "Epoch 63/200\n",
            "74/74 [==============================] - 51s 690ms/step - loss: 1.3022 - accuracy: 0.4650 - val_loss: 1.4272 - val_accuracy: 0.4323\n",
            "Epoch 64/200\n",
            "74/74 [==============================] - 50s 682ms/step - loss: 1.2878 - accuracy: 0.4722 - val_loss: 1.4164 - val_accuracy: 0.4427\n",
            "Epoch 65/200\n",
            "74/74 [==============================] - 51s 690ms/step - loss: 1.2763 - accuracy: 0.4802 - val_loss: 1.4043 - val_accuracy: 0.4528\n",
            "Epoch 66/200\n",
            "74/74 [==============================] - 50s 681ms/step - loss: 1.2630 - accuracy: 0.4861 - val_loss: 1.4071 - val_accuracy: 0.4569\n",
            "Epoch 67/200\n",
            "74/74 [==============================] - 56s 759ms/step - loss: 1.2619 - accuracy: 0.4871 - val_loss: 1.3971 - val_accuracy: 0.4587\n",
            "Epoch 68/200\n",
            "74/74 [==============================] - 50s 682ms/step - loss: 1.2460 - accuracy: 0.4952 - val_loss: 1.3959 - val_accuracy: 0.4585\n",
            "Epoch 69/200\n",
            "74/74 [==============================] - 55s 751ms/step - loss: 1.2253 - accuracy: 0.5048 - val_loss: 1.3851 - val_accuracy: 0.4629\n",
            "Epoch 70/200\n",
            "74/74 [==============================] - 51s 686ms/step - loss: 1.2093 - accuracy: 0.5122 - val_loss: 1.3802 - val_accuracy: 0.4672\n",
            "Epoch 71/200\n",
            "74/74 [==============================] - 55s 750ms/step - loss: 1.1801 - accuracy: 0.5242 - val_loss: 1.3569 - val_accuracy: 0.4770\n",
            "Epoch 72/200\n",
            "74/74 [==============================] - 51s 685ms/step - loss: 1.1701 - accuracy: 0.5297 - val_loss: 1.3218 - val_accuracy: 0.4960\n",
            "Epoch 73/200\n",
            "74/74 [==============================] - 55s 750ms/step - loss: 1.1500 - accuracy: 0.5381 - val_loss: 1.3023 - val_accuracy: 0.5059\n",
            "Epoch 74/200\n",
            "74/74 [==============================] - 51s 692ms/step - loss: 1.1394 - accuracy: 0.5419 - val_loss: 1.2768 - val_accuracy: 0.5199\n",
            "Epoch 75/200\n",
            "74/74 [==============================] - 50s 682ms/step - loss: 1.1261 - accuracy: 0.5487 - val_loss: 1.2654 - val_accuracy: 0.5298\n",
            "Epoch 76/200\n",
            "74/74 [==============================] - 56s 753ms/step - loss: 1.1089 - accuracy: 0.5569 - val_loss: 1.2674 - val_accuracy: 0.5310\n",
            "Epoch 77/200\n",
            "74/74 [==============================] - 51s 691ms/step - loss: 1.0947 - accuracy: 0.5634 - val_loss: 1.2792 - val_accuracy: 0.5275\n",
            "Epoch 78/200\n",
            "74/74 [==============================] - 55s 750ms/step - loss: 1.0792 - accuracy: 0.5701 - val_loss: 1.2883 - val_accuracy: 0.5250\n",
            "Epoch 79/200\n",
            "74/74 [==============================] - 51s 686ms/step - loss: 1.0609 - accuracy: 0.5779 - val_loss: 1.2847 - val_accuracy: 0.5312\n",
            "Epoch 80/200\n",
            "74/74 [==============================] - 55s 750ms/step - loss: 1.0392 - accuracy: 0.5868 - val_loss: 1.2754 - val_accuracy: 0.5338\n",
            "Epoch 81/200\n",
            "74/74 [==============================] - 51s 684ms/step - loss: 1.0186 - accuracy: 0.5956 - val_loss: 1.2685 - val_accuracy: 0.5425\n",
            "Epoch 82/200\n",
            "74/74 [==============================] - 51s 689ms/step - loss: 1.0078 - accuracy: 0.6005 - val_loss: 1.2577 - val_accuracy: 0.5463\n",
            "Epoch 83/200\n",
            "74/74 [==============================] - 50s 681ms/step - loss: 0.9976 - accuracy: 0.6049 - val_loss: 1.2411 - val_accuracy: 0.5527\n",
            "Epoch 84/200\n",
            "74/74 [==============================] - 51s 687ms/step - loss: 1.0004 - accuracy: 0.6039 - val_loss: 1.2278 - val_accuracy: 0.5575\n",
            "Epoch 85/200\n",
            "74/74 [==============================] - 50s 679ms/step - loss: 0.9992 - accuracy: 0.6039 - val_loss: 1.1877 - val_accuracy: 0.5741\n",
            "Epoch 86/200\n",
            "74/74 [==============================] - 51s 684ms/step - loss: 0.9906 - accuracy: 0.6078 - val_loss: 1.2025 - val_accuracy: 0.5705\n",
            "Epoch 87/200\n",
            "74/74 [==============================] - 51s 691ms/step - loss: 0.9901 - accuracy: 0.6088 - val_loss: 1.2220 - val_accuracy: 0.5578\n",
            "Epoch 88/200\n",
            "74/74 [==============================] - 51s 690ms/step - loss: 0.9735 - accuracy: 0.6152 - val_loss: 1.2247 - val_accuracy: 0.5607\n",
            "Epoch 89/200\n",
            "74/74 [==============================] - 50s 682ms/step - loss: 0.9618 - accuracy: 0.6207 - val_loss: 1.2366 - val_accuracy: 0.5567\n",
            "Epoch 90/200\n",
            "74/74 [==============================] - 50s 676ms/step - loss: 0.9513 - accuracy: 0.6242 - val_loss: 1.1968 - val_accuracy: 0.5770\n",
            "Epoch 91/200\n",
            "74/74 [==============================] - 54s 733ms/step - loss: 0.9406 - accuracy: 0.6282 - val_loss: 1.1956 - val_accuracy: 0.5775\n",
            "Epoch 92/200\n",
            "74/74 [==============================] - 50s 669ms/step - loss: 0.9270 - accuracy: 0.6345 - val_loss: 1.1803 - val_accuracy: 0.5866\n",
            "Epoch 93/200\n",
            "74/74 [==============================] - 50s 675ms/step - loss: 0.9235 - accuracy: 0.6361 - val_loss: 1.1583 - val_accuracy: 0.5967\n",
            "Epoch 94/200\n",
            "74/74 [==============================] - 50s 680ms/step - loss: 0.9160 - accuracy: 0.6402 - val_loss: 1.1406 - val_accuracy: 0.6054\n",
            "Epoch 95/200\n",
            "74/74 [==============================] - 50s 682ms/step - loss: 0.9111 - accuracy: 0.6421 - val_loss: 1.1332 - val_accuracy: 0.6091\n",
            "Epoch 96/200\n",
            "74/74 [==============================] - 50s 679ms/step - loss: 0.9231 - accuracy: 0.6371 - val_loss: 1.1232 - val_accuracy: 0.6140\n",
            "Epoch 97/200\n",
            "74/74 [==============================] - 54s 730ms/step - loss: 0.9275 - accuracy: 0.6358 - val_loss: 1.1559 - val_accuracy: 0.6044\n",
            "Epoch 98/200\n",
            "74/74 [==============================] - 49s 666ms/step - loss: 0.9371 - accuracy: 0.6311 - val_loss: 1.1659 - val_accuracy: 0.5985\n",
            "Epoch 99/200\n",
            "74/74 [==============================] - 49s 657ms/step - loss: 0.9154 - accuracy: 0.6401 - val_loss: 1.1579 - val_accuracy: 0.6036\n",
            "Epoch 100/200\n",
            "74/74 [==============================] - 50s 670ms/step - loss: 0.9022 - accuracy: 0.6440 - val_loss: 1.1554 - val_accuracy: 0.6087\n",
            "Epoch 101/200\n",
            "74/74 [==============================] - 50s 675ms/step - loss: 0.8848 - accuracy: 0.6520 - val_loss: 1.1534 - val_accuracy: 0.6111\n",
            "Epoch 102/200\n",
            "74/74 [==============================] - 50s 680ms/step - loss: 0.8720 - accuracy: 0.6560 - val_loss: 1.1503 - val_accuracy: 0.6142\n",
            "Epoch 103/200\n",
            "74/74 [==============================] - 50s 682ms/step - loss: 0.8558 - accuracy: 0.6623 - val_loss: 1.1354 - val_accuracy: 0.6198\n",
            "Epoch 104/200\n",
            "74/74 [==============================] - 50s 682ms/step - loss: 0.8459 - accuracy: 0.6664 - val_loss: 1.1302 - val_accuracy: 0.6239\n",
            "Epoch 105/200\n",
            "74/74 [==============================] - 50s 682ms/step - loss: 0.8312 - accuracy: 0.6724 - val_loss: 1.1206 - val_accuracy: 0.6314\n",
            "Epoch 106/200\n",
            "74/74 [==============================] - 50s 682ms/step - loss: 0.8225 - accuracy: 0.6759 - val_loss: 1.1023 - val_accuracy: 0.6379\n",
            "Epoch 107/200\n",
            "74/74 [==============================] - 49s 664ms/step - loss: 0.8161 - accuracy: 0.6789 - val_loss: 1.1009 - val_accuracy: 0.6418\n",
            "Epoch 108/200\n",
            "74/74 [==============================] - 50s 673ms/step - loss: 0.8057 - accuracy: 0.6827 - val_loss: 1.0804 - val_accuracy: 0.6471\n",
            "Epoch 109/200\n",
            "74/74 [==============================] - 49s 663ms/step - loss: 0.7966 - accuracy: 0.6866 - val_loss: 1.0839 - val_accuracy: 0.6481\n",
            "Epoch 110/200\n",
            "74/74 [==============================] - 50s 672ms/step - loss: 0.7845 - accuracy: 0.6912 - val_loss: 1.0776 - val_accuracy: 0.6538\n",
            "Epoch 111/200\n",
            "74/74 [==============================] - 49s 661ms/step - loss: 0.7819 - accuracy: 0.6928 - val_loss: 1.0962 - val_accuracy: 0.6475\n",
            "Epoch 112/200\n",
            "74/74 [==============================] - 49s 670ms/step - loss: 0.7745 - accuracy: 0.6949 - val_loss: 1.0851 - val_accuracy: 0.6545\n",
            "Epoch 113/200\n",
            "74/74 [==============================] - 50s 676ms/step - loss: 0.7648 - accuracy: 0.6991 - val_loss: 1.0851 - val_accuracy: 0.6564\n",
            "Epoch 114/200\n",
            "74/74 [==============================] - 50s 677ms/step - loss: 0.7602 - accuracy: 0.7011 - val_loss: 1.0779 - val_accuracy: 0.6595\n",
            "Epoch 115/200\n",
            "74/74 [==============================] - 54s 732ms/step - loss: 0.7552 - accuracy: 0.7032 - val_loss: 1.0883 - val_accuracy: 0.6566\n",
            "Epoch 116/200\n",
            "74/74 [==============================] - 49s 666ms/step - loss: 0.7547 - accuracy: 0.7028 - val_loss: 1.0825 - val_accuracy: 0.6584\n",
            "Epoch 117/200\n",
            "74/74 [==============================] - 54s 731ms/step - loss: 0.7429 - accuracy: 0.7074 - val_loss: 1.0881 - val_accuracy: 0.6602\n",
            "Epoch 118/200\n",
            "74/74 [==============================] - 50s 674ms/step - loss: 0.7446 - accuracy: 0.7065 - val_loss: 1.0897 - val_accuracy: 0.6594\n",
            "Epoch 119/200\n",
            "74/74 [==============================] - 51s 690ms/step - loss: 0.7428 - accuracy: 0.7078 - val_loss: 1.0764 - val_accuracy: 0.6632\n",
            "Epoch 120/200\n",
            "74/74 [==============================] - 56s 755ms/step - loss: 0.7339 - accuracy: 0.7116 - val_loss: 1.0750 - val_accuracy: 0.6703\n",
            "Epoch 121/200\n",
            "74/74 [==============================] - 50s 681ms/step - loss: 0.7268 - accuracy: 0.7142 - val_loss: 1.0812 - val_accuracy: 0.6669\n",
            "Epoch 122/200\n",
            "74/74 [==============================] - 50s 679ms/step - loss: 0.7294 - accuracy: 0.7133 - val_loss: 1.0838 - val_accuracy: 0.6643\n",
            "Epoch 123/200\n",
            "74/74 [==============================] - 50s 682ms/step - loss: 0.7253 - accuracy: 0.7147 - val_loss: 1.0701 - val_accuracy: 0.6711\n",
            "Epoch 124/200\n",
            "74/74 [==============================] - 51s 687ms/step - loss: 0.7253 - accuracy: 0.7158 - val_loss: 1.0780 - val_accuracy: 0.6686\n",
            "Epoch 125/200\n",
            "74/74 [==============================] - 51s 688ms/step - loss: 0.7215 - accuracy: 0.7159 - val_loss: 1.0831 - val_accuracy: 0.6697\n",
            "Epoch 126/200\n",
            "74/74 [==============================] - 50s 679ms/step - loss: 0.7161 - accuracy: 0.7183 - val_loss: 1.0775 - val_accuracy: 0.6728\n",
            "Epoch 127/200\n",
            "74/74 [==============================] - 50s 682ms/step - loss: 0.7158 - accuracy: 0.7182 - val_loss: 1.0708 - val_accuracy: 0.6731\n",
            "Epoch 128/200\n",
            "74/74 [==============================] - 50s 681ms/step - loss: 0.7116 - accuracy: 0.7200 - val_loss: 1.0860 - val_accuracy: 0.6719\n",
            "Epoch 129/200\n",
            "74/74 [==============================] - 50s 681ms/step - loss: 0.7105 - accuracy: 0.7207 - val_loss: 1.0736 - val_accuracy: 0.6762\n",
            "Epoch 130/200\n",
            "74/74 [==============================] - 50s 682ms/step - loss: 0.7086 - accuracy: 0.7214 - val_loss: 1.0826 - val_accuracy: 0.6734\n",
            "Epoch 131/200\n",
            "74/74 [==============================] - 51s 689ms/step - loss: 0.7051 - accuracy: 0.7227 - val_loss: 1.0690 - val_accuracy: 0.6782\n",
            "Epoch 132/200\n",
            "74/74 [==============================] - 50s 680ms/step - loss: 0.7050 - accuracy: 0.7232 - val_loss: 1.0754 - val_accuracy: 0.6753\n",
            "Epoch 133/200\n",
            "74/74 [==============================] - 50s 681ms/step - loss: 0.7050 - accuracy: 0.7222 - val_loss: 1.0811 - val_accuracy: 0.6728\n",
            "Epoch 134/200\n",
            "74/74 [==============================] - 50s 682ms/step - loss: 0.6982 - accuracy: 0.7252 - val_loss: 1.0611 - val_accuracy: 0.6792\n",
            "Epoch 135/200\n",
            "74/74 [==============================] - 51s 686ms/step - loss: 0.7001 - accuracy: 0.7245 - val_loss: 1.0642 - val_accuracy: 0.6787\n",
            "Epoch 136/200\n",
            "74/74 [==============================] - 51s 690ms/step - loss: 0.6948 - accuracy: 0.7268 - val_loss: 1.0564 - val_accuracy: 0.6850\n",
            "Epoch 137/200\n",
            "74/74 [==============================] - 51s 689ms/step - loss: 0.6893 - accuracy: 0.7286 - val_loss: 1.0602 - val_accuracy: 0.6840\n",
            "Epoch 138/200\n",
            "74/74 [==============================] - 50s 680ms/step - loss: 0.6891 - accuracy: 0.7291 - val_loss: 1.0467 - val_accuracy: 0.6912\n",
            "Epoch 139/200\n",
            "74/74 [==============================] - 51s 690ms/step - loss: 0.6843 - accuracy: 0.7306 - val_loss: 1.0421 - val_accuracy: 0.6918\n",
            "Epoch 140/200\n",
            "74/74 [==============================] - 50s 681ms/step - loss: 0.6804 - accuracy: 0.7320 - val_loss: 1.0452 - val_accuracy: 0.6933\n",
            "Epoch 141/200\n",
            "74/74 [==============================] - 50s 683ms/step - loss: 0.6769 - accuracy: 0.7331 - val_loss: 1.0425 - val_accuracy: 0.6966\n",
            "Epoch 142/200\n",
            "74/74 [==============================] - 50s 681ms/step - loss: 0.6709 - accuracy: 0.7360 - val_loss: 1.0511 - val_accuracy: 0.6941\n",
            "Epoch 143/200\n",
            "74/74 [==============================] - 51s 684ms/step - loss: 0.6683 - accuracy: 0.7359 - val_loss: 1.0435 - val_accuracy: 0.6966\n",
            "Epoch 144/200\n",
            "74/74 [==============================] - 50s 683ms/step - loss: 0.6646 - accuracy: 0.7380 - val_loss: 1.0438 - val_accuracy: 0.6975\n",
            "Epoch 145/200\n",
            "74/74 [==============================] - 51s 689ms/step - loss: 0.6604 - accuracy: 0.7397 - val_loss: 1.0451 - val_accuracy: 0.6982\n",
            "Epoch 146/200\n",
            "74/74 [==============================] - 51s 688ms/step - loss: 0.6576 - accuracy: 0.7405 - val_loss: 1.0515 - val_accuracy: 0.6966\n",
            "Epoch 147/200\n",
            "74/74 [==============================] - 51s 689ms/step - loss: 0.6576 - accuracy: 0.7406 - val_loss: 1.0497 - val_accuracy: 0.6986\n",
            "Epoch 148/200\n",
            "74/74 [==============================] - 51s 689ms/step - loss: 0.6500 - accuracy: 0.7438 - val_loss: 1.0441 - val_accuracy: 0.7006\n",
            "Epoch 149/200\n",
            "74/74 [==============================] - 50s 681ms/step - loss: 0.6494 - accuracy: 0.7435 - val_loss: 1.0447 - val_accuracy: 0.6994\n",
            "Epoch 150/200\n",
            "74/74 [==============================] - 56s 753ms/step - loss: 0.6498 - accuracy: 0.7437 - val_loss: 1.0442 - val_accuracy: 0.7002\n",
            "Epoch 151/200\n",
            "74/74 [==============================] - 50s 682ms/step - loss: 0.6475 - accuracy: 0.7445 - val_loss: 1.0450 - val_accuracy: 0.6984\n",
            "Epoch 152/200\n",
            "74/74 [==============================] - 50s 682ms/step - loss: 0.6430 - accuracy: 0.7464 - val_loss: 1.0501 - val_accuracy: 0.7012\n",
            "Epoch 153/200\n",
            "74/74 [==============================] - 51s 689ms/step - loss: 0.6380 - accuracy: 0.7478 - val_loss: 1.0486 - val_accuracy: 0.7000\n",
            "Epoch 154/200\n",
            "74/74 [==============================] - 50s 678ms/step - loss: 0.6408 - accuracy: 0.7464 - val_loss: 1.0475 - val_accuracy: 0.6984\n",
            "Epoch 155/200\n",
            "74/74 [==============================] - 56s 755ms/step - loss: 0.6391 - accuracy: 0.7477 - val_loss: 1.0380 - val_accuracy: 0.7000\n",
            "Epoch 156/200\n",
            "74/74 [==============================] - 50s 680ms/step - loss: 0.6348 - accuracy: 0.7489 - val_loss: 1.0446 - val_accuracy: 0.7033\n",
            "Epoch 157/200\n",
            "74/74 [==============================] - 51s 691ms/step - loss: 0.6329 - accuracy: 0.7495 - val_loss: 1.0475 - val_accuracy: 0.7010\n",
            "Epoch 158/200\n",
            "74/74 [==============================] - 51s 687ms/step - loss: 0.6326 - accuracy: 0.7494 - val_loss: 1.0490 - val_accuracy: 0.7027\n",
            "Epoch 159/200\n",
            "74/74 [==============================] - 50s 683ms/step - loss: 0.6278 - accuracy: 0.7512 - val_loss: 1.0465 - val_accuracy: 0.7017\n",
            "Epoch 160/200\n",
            "74/74 [==============================] - 51s 684ms/step - loss: 0.6261 - accuracy: 0.7523 - val_loss: 1.0532 - val_accuracy: 0.7041\n",
            "Epoch 161/200\n",
            "74/74 [==============================] - 49s 665ms/step - loss: 0.6281 - accuracy: 0.7517 - val_loss: 1.0476 - val_accuracy: 0.7051\n",
            "Epoch 162/200\n",
            "74/74 [==============================] - 49s 658ms/step - loss: 0.6270 - accuracy: 0.7514 - val_loss: 1.0409 - val_accuracy: 0.7074\n",
            "Epoch 163/200\n",
            "74/74 [==============================] - 49s 657ms/step - loss: 0.6242 - accuracy: 0.7524 - val_loss: 1.0479 - val_accuracy: 0.7065\n",
            "Epoch 164/200\n",
            "74/74 [==============================] - 49s 668ms/step - loss: 0.6224 - accuracy: 0.7534 - val_loss: 1.0475 - val_accuracy: 0.7045\n",
            "Epoch 165/200\n",
            "74/74 [==============================] - 50s 676ms/step - loss: 0.6198 - accuracy: 0.7537 - val_loss: 1.0496 - val_accuracy: 0.7071\n",
            "Epoch 166/200\n",
            "74/74 [==============================] - 49s 658ms/step - loss: 0.6201 - accuracy: 0.7549 - val_loss: 1.0492 - val_accuracy: 0.7048\n",
            "Epoch 167/200\n",
            "74/74 [==============================] - 49s 659ms/step - loss: 0.6181 - accuracy: 0.7550 - val_loss: 1.0528 - val_accuracy: 0.7075\n",
            "Epoch 168/200\n",
            "74/74 [==============================] - 49s 657ms/step - loss: 0.6157 - accuracy: 0.7560 - val_loss: 1.0528 - val_accuracy: 0.7095\n",
            "Epoch 169/200\n",
            "74/74 [==============================] - 49s 661ms/step - loss: 0.6178 - accuracy: 0.7554 - val_loss: 1.0528 - val_accuracy: 0.7079\n",
            "Epoch 170/200\n",
            "74/74 [==============================] - 49s 661ms/step - loss: 0.6146 - accuracy: 0.7566 - val_loss: 1.0489 - val_accuracy: 0.7099\n",
            "Epoch 171/200\n",
            "74/74 [==============================] - 49s 667ms/step - loss: 0.6123 - accuracy: 0.7580 - val_loss: 1.0496 - val_accuracy: 0.7102\n",
            "Epoch 172/200\n",
            "74/74 [==============================] - 49s 660ms/step - loss: 0.6120 - accuracy: 0.7580 - val_loss: 1.0450 - val_accuracy: 0.7122\n",
            "Epoch 173/200\n",
            "74/74 [==============================] - 50s 671ms/step - loss: 0.6116 - accuracy: 0.7579 - val_loss: 1.0506 - val_accuracy: 0.7106\n",
            "Epoch 174/200\n",
            "74/74 [==============================] - 49s 657ms/step - loss: 0.6118 - accuracy: 0.7572 - val_loss: 1.0422 - val_accuracy: 0.7133\n",
            "Epoch 175/200\n",
            "74/74 [==============================] - 49s 657ms/step - loss: 0.6085 - accuracy: 0.7591 - val_loss: 1.0568 - val_accuracy: 0.7108\n",
            "Epoch 176/200\n",
            "74/74 [==============================] - 49s 666ms/step - loss: 0.6083 - accuracy: 0.7588 - val_loss: 1.0583 - val_accuracy: 0.7090\n",
            "Epoch 177/200\n",
            "74/74 [==============================] - 49s 656ms/step - loss: 0.6115 - accuracy: 0.7577 - val_loss: 1.0500 - val_accuracy: 0.7117\n",
            "Epoch 178/200\n",
            "74/74 [==============================] - 49s 661ms/step - loss: 0.6081 - accuracy: 0.7586 - val_loss: 1.0464 - val_accuracy: 0.7097\n",
            "Epoch 179/200\n",
            "74/74 [==============================] - 49s 657ms/step - loss: 0.6056 - accuracy: 0.7601 - val_loss: 1.0531 - val_accuracy: 0.7103\n",
            "Epoch 180/200\n",
            "74/74 [==============================] - 49s 661ms/step - loss: 0.6064 - accuracy: 0.7590 - val_loss: 1.0511 - val_accuracy: 0.7109\n",
            "Epoch 181/200\n",
            "74/74 [==============================] - 49s 659ms/step - loss: 0.6051 - accuracy: 0.7594 - val_loss: 1.0538 - val_accuracy: 0.7104\n",
            "Epoch 182/200\n",
            "74/74 [==============================] - 54s 735ms/step - loss: 0.6047 - accuracy: 0.7599 - val_loss: 1.0489 - val_accuracy: 0.7106\n",
            "Epoch 183/200\n",
            "74/74 [==============================] - 49s 659ms/step - loss: 0.6027 - accuracy: 0.7605 - val_loss: 1.0473 - val_accuracy: 0.7117\n",
            "Epoch 184/200\n",
            "74/74 [==============================] - 49s 665ms/step - loss: 0.6035 - accuracy: 0.7603 - val_loss: 1.0512 - val_accuracy: 0.7109\n",
            "Epoch 185/200\n",
            "74/74 [==============================] - 49s 662ms/step - loss: 0.6022 - accuracy: 0.7614 - val_loss: 1.0550 - val_accuracy: 0.7113\n",
            "Epoch 186/200\n",
            "74/74 [==============================] - 49s 669ms/step - loss: 0.5996 - accuracy: 0.7621 - val_loss: 1.0582 - val_accuracy: 0.7108\n",
            "Epoch 187/200\n",
            "74/74 [==============================] - 55s 740ms/step - loss: 0.6002 - accuracy: 0.7621 - val_loss: 1.0644 - val_accuracy: 0.7102\n",
            "Epoch 188/200\n",
            "74/74 [==============================] - 50s 671ms/step - loss: 0.5996 - accuracy: 0.7619 - val_loss: 1.0564 - val_accuracy: 0.7125\n",
            "Epoch 189/200\n",
            "74/74 [==============================] - 50s 678ms/step - loss: 0.5994 - accuracy: 0.7617 - val_loss: 1.0576 - val_accuracy: 0.7118\n",
            "Epoch 190/200\n",
            "74/74 [==============================] - 50s 681ms/step - loss: 0.5985 - accuracy: 0.7623 - val_loss: 1.0580 - val_accuracy: 0.7111\n",
            "Epoch 191/200\n",
            "74/74 [==============================] - 50s 682ms/step - loss: 0.5983 - accuracy: 0.7620 - val_loss: 1.0672 - val_accuracy: 0.7101\n",
            "Epoch 192/200\n",
            "74/74 [==============================] - 50s 678ms/step - loss: 0.5985 - accuracy: 0.7625 - val_loss: 1.0660 - val_accuracy: 0.7109\n",
            "Epoch 193/200\n",
            "74/74 [==============================] - 54s 734ms/step - loss: 0.5981 - accuracy: 0.7627 - val_loss: 1.0621 - val_accuracy: 0.7089\n",
            "Epoch 194/200\n",
            "74/74 [==============================] - 49s 667ms/step - loss: 0.5995 - accuracy: 0.7617 - val_loss: 1.0639 - val_accuracy: 0.7098\n",
            "Epoch 195/200\n",
            "74/74 [==============================] - 49s 662ms/step - loss: 0.5961 - accuracy: 0.7630 - val_loss: 1.0628 - val_accuracy: 0.7108\n",
            "Epoch 196/200\n",
            "74/74 [==============================] - 49s 665ms/step - loss: 0.5981 - accuracy: 0.7627 - val_loss: 1.0661 - val_accuracy: 0.7121\n",
            "Epoch 197/200\n",
            "74/74 [==============================] - 49s 660ms/step - loss: 0.5947 - accuracy: 0.7639 - val_loss: 1.0668 - val_accuracy: 0.7135\n",
            "Epoch 198/200\n",
            "74/74 [==============================] - 49s 666ms/step - loss: 0.5961 - accuracy: 0.7629 - val_loss: 1.0709 - val_accuracy: 0.7096\n",
            "Epoch 199/200\n",
            "74/74 [==============================] - 50s 671ms/step - loss: 0.5987 - accuracy: 0.7622 - val_loss: 1.0636 - val_accuracy: 0.7122\n",
            "Epoch 200/200\n",
            "74/74 [==============================] - 50s 679ms/step - loss: 0.5933 - accuracy: 0.7634 - val_loss: 1.0727 - val_accuracy: 0.7113\n"
          ]
        },
        {
          "output_type": "execute_result",
          "data": {
            "text/plain": [
              "<keras.callbacks.History at 0x7f0b2111d630>"
            ]
          },
          "metadata": {},
          "execution_count": 27
        }
      ],
      "source": [
        "#Training the sequence-to-sequence Transformer\n",
        "from tensorflow.keras.optimizers import Adam\n",
        "\n",
        "callbacks = [\n",
        "    keras.callbacks.ModelCheckpoint(\n",
        "        filepath=\"project3_transformer_model.keras\",\n",
        "        save_best_only=True,\n",
        "        monitor=\"loss\")]\n",
        "\n",
        "model.compile(optimizer=Adam(), loss=\"sparse_categorical_crossentropy\", metrics=[\"accuracy\"])\n",
        "\n",
        "# model.compile(loss=\"sparse_categorical_crossentropy\", optimizer=\"rmsprop\", metrics=[\"accuracy\"])\n",
        "\n",
        "model.fit(train_dataset, epochs=200, validation_data=val_dataset, callbacks=callbacks)"
      ]
    },
    {
      "cell_type": "code",
      "execution_count": 28,
      "metadata": {
        "id": "aMIdTc78qxad"
      },
      "outputs": [],
      "source": [
        "import numpy as np\n",
        "\n",
        "tokens_index = dict(enumerate(text_vectorization.get_vocabulary()))\n",
        "\n",
        "def sample_next(predictions, temperature=1.0):\n",
        "    predictions = np.asarray(predictions).astype(\"float64\")\n",
        "    predictions = np.log(predictions) / temperature\n",
        "    exp_preds = np.exp(predictions)\n",
        "    predictions = exp_preds / np.sum(exp_preds)\n",
        "    probas = np.random.multinomial(1, predictions, 1)\n",
        "    return np.argmax(probas)\n",
        "    \n",
        "def predict_next_word(input_sentence, temp):\n",
        "  #prompt = \" \".join(input_sentence)\n",
        "  tokenized_sentence = text_vectorization([input_sentence])\n",
        "  predictions = model.predict(tokenized_sentence, verbose=0)\n",
        "  vectorized_prompt = text_vectorization([input_sentence])[0].numpy()\n",
        "  prompt_length = np.nonzero(vectorized_prompt == 0)[0][0]\n",
        "  next_token = sample_next( predictions[0, prompt_length - 1 , :], temp)\n",
        "  sampled_token = tokens_index[next_token]\n",
        "  return sampled_token"
      ]
    },
    {
      "cell_type": "code",
      "execution_count": null,
      "metadata": {
        "id": "1PXavhcGrZws"
      },
      "outputs": [],
      "source": [
        "# count=0\n",
        "# for temp in [0.2]:\n",
        "#   count=0\n",
        "#   #print(\"for temp :\" , temp)\n",
        "#   for i in range(len(test_input)):\n",
        "#     #print(i)\n",
        "#     input_sent = \" \".join(test_input[i])\n",
        "#     output = predict_next_word(input_sent, temp)\n",
        "#     #print(\"output expected: \" , test_output[i])\n",
        "#     #print(\"output : \" , output)\n",
        "#     if(output == test_output[i]):\n",
        "#       count+=1\n",
        "\n",
        "#   print(\"with temp=\", temp)\n",
        "#   print(count/len(test_input))\n",
        "\n",
        "    "
      ]
    },
    {
      "cell_type": "markdown",
      "source": [
        "# Inference on Test Dataset"
      ],
      "metadata": {
        "id": "uqFusCBL-OqR"
      }
    },
    {
      "cell_type": "code",
      "source": [
        "import keras\n",
        "# Loading test dataset\n",
        "test_dataset = pickle.load(open('/content/drive/MyDrive/Colab Notebooks/project3/DS_6_test_input_prefixList', 'rb'))\n"
      ],
      "metadata": {
        "id": "5Z2oMFfx-WjB"
      },
      "execution_count": 30,
      "outputs": []
    },
    {
      "cell_type": "code",
      "source": [
        "# Loading the saved model\n",
        "\n",
        "model = keras.models.load_model(\n",
        "    \"project3_transformer_model.keras\",\n",
        "    custom_objects={\"TransformerDecoder\": TransformerDecoder,\n",
        "                    \"PositionalEmbedding\": PositionalEmbedding})"
      ],
      "metadata": {
        "id": "VaYTFvCFFGGe"
      },
      "execution_count": 35,
      "outputs": []
    },
    {
      "cell_type": "code",
      "source": [
        "# inference on test dataset\n",
        "\n",
        "output_data = []\n",
        "\n",
        "for i in range(len(test_dataset)):\n",
        "    input_sentence = \" \".join(test_dataset[i])\n",
        "    output = predict_next_word(input_sentence, 0.2)\n",
        "    output_data.append(output)\n",
        "\n",
        "pickle.dump(output_data, open('/content/drive/MyDrive/Colab Notebooks/project3/final_output_data_l1','wb'))     \n"
      ],
      "metadata": {
        "id": "tcxAmzUXFGDN"
      },
      "execution_count": 37,
      "outputs": []
    },
    {
      "cell_type": "code",
      "source": [
        "result_data = pickle.load(open('/content/drive/MyDrive/Colab Notebooks/project3/final_output_data_l1', 'rb'))\n",
        "\n",
        "print(result_data)"
      ],
      "metadata": {
        "colab": {
          "base_uri": "https://localhost:8080/"
        },
        "id": "dZXhtJUsFVll",
        "outputId": "d6f33084-11d5-4768-8e1a-e7ab4f9dd8ba"
      },
      "execution_count": 40,
      "outputs": [
        {
          "output_type": "stream",
          "name": "stdout",
          "text": [
            "['e', '', 'e', 'c', 'c', 'd', 'b', 'a', 'b', 'f', 'a', 'a', 'b', 'c', 'a', 'k', 'g', 'a', 'd', 'd', 'a', 'g', 'e', 'd', 'k', 'a', 'a', 'c', 'c', 'i', '', 'c', 'b', 'g', 'e', 'h', 'g', 'b', 'k', 'a', 'a', 'c', 'd', 'g', '[UNK]', 'b', 'g', 'a', 'g', 'f', '[UNK]', 'i', '', 'g', 'c', 'a', 'd', 'f', 'c', 'a', 'g', 'b', 'c', 'd', 'c', 'f', 'a', 'b', 'b', 'c', 'g', 'a', 'a', 'a', 'c', 'a', 'd', '', 'e', 'b', 'k', 'f', 'b', 'b', 'e', 'b', 'a', 'c', '', 'c', 'e', 'b', 'e', 'g', 'd', 'g', 'a', 'c', 'b', 'i', 'a', 'c', 'a', 'd', 'c', 'a', 'd', 'a', 'c', 'f', 'f', 'f', 'd', 'g', 'a', 'h', 'k', 'a', 'e', 'k', 'a', 'e', 'c', 'f', 'a', '', 'f', 'c', '', 'g', 'b', '[UNK]', 'c', 'f', 'd', 'k', 'a', 'a', 'h', 'f', 'b', 'a', 'd', 'b', 'a', 'g', 'b', 'd', 'g', 'd', 'b', 'a', 'b', 'e', 'e', 'a', 'g', 'e', 'f', 'c', '[UNK]', 'b', '[UNK]', 'f', 'b', 'b', 'f', 'a', 'b', 'g', 'a', 'a', 'c', 'a', 'e', 'a', 'c', '[UNK]', 'k', 'a', 'a', 'd', 'd', 'e', 'e', 'f', 'g', 'b', 'g', 'i', '', 'g', '', 'd', 'g', 'e', 'd', 'a', 'f', 'a', 'b', 'b', 'd', 'g', 'e', 'd', 'c', 'e', 'a', 'e', 'c', 'c', 'c', 'g', 'k', 'e', 'c', 'a', 'd', 'e', 'g', 'a', 'a', 'h', 'd', 'a', 'e', 'e', 'c', 'e', 'a', 'c', 'b', 'b', 'c', 'g', 'f', 'a', 'a', 'c', 'a', 'c', 'e', 'g', 'c', 'e', 'c', 'a', 'a', 'k', 'a', 'a', 'g', 'a', 'f', 'g', 'e', 'c', 'e', 'b', 'f', 'a', 'b', 'e', 'a', 'c', 'b', 'b', 'd', 'c', 'a', 'k', 'f', 'e', 'a', 'k', 'e', 'i', 'a', '', 'b', 'a', 'b', 'c', 'f', 'e', 'a', 'b', 'b', 'b', 'a', 'i', 'e', 'b', 'e', 'a', 'a', 'g', 'g', 'b', 'e', 'a', 'a', 'g', 'g', 'e', 'b', 'd', 'b', 'd', 'c', 'f', 'd', 'f', 'c', 'c', 'd', 'a', 'a', 'd', 'e', 'a', 'e', 'd', 'a', 'c', 'i', 'f', 'c', 'a', 'a', 'g', '', 'c', 'e', 'c', 'd', 'g', 'a', 'a', 'b', 'g', 'c', 'b', 'c', 'b', 'a', 'd', 'c', 'g', 'c', 'a', 'e', 'c', 'c', 'e', 'b', 'd', 'b', 'c', 'a', 'c', '', 'a', 'b', 'a', 'a', 'g', 'a', 'g', 'c', 'b', 'k', 'b', 'b', 'c', 'b', 'f', '', 'a', 'f', '[UNK]', 'e', 'd', 'd', 'e', 'a', 'b', 'e', 'c', 'c', 'e', 'd', 'a', '', 'c', 'd', 'd', 'k', 'f', 'b', 'b', 'a', 'd', 'f', 'f', 'a', 'i', 'a', 'd', 'f', 'd', 'b', 'a', 'f', 'a', 'a', 'b', 'g', 'i', 'c', 'e', 'c', 'c', 'e', 'e', 'b', 'e', 'd', 'b', 'd', 'b', 'a', 'e', 'a', '', 'i', 'b', 'd', 'g', 'e', 'a', 'a', 'a', 'e', 'k', 'e', 'g', 'c', 'f', 'd', 'k', 'h', 'b', 'f', 'f', '', 'a', 'a', 'e', 'a', 'a', 'd', 'a', 'a', 'c', 'g', 'a', 'c', 'f', 'f', 'b', 'g', 'f', '', 'a', 'i', 'f', 'a', 'a', 'i', 'b', 'a', 'f', 'e', 'f', 'a', 'c', 'c', 'd', 'a', 'd', 'e', 'g', 'e', '[UNK]', 'a', 'c', '[UNK]', 'b', 'd', '', 'd', 'b', 'g', '', 'g', 'k', 'f', 'a', 'd', 'f', 'a', 'd', 'g', 'g', 'e', 'e', 'c', 'd', 'd', 'a', 'c', 'a', 'a', 'a', 'f', 'c', 'c', 'a', 'c', 'a', 'e', 'a', '[UNK]', 'a', 'b', 'd', 'g', 'a', 'a', 'b', 'c', 'c', 'a', 'd', 'i', 'e', 'c', 'f', 'e', 'b', 'b', '[UNK]', 'g', 'e', 'f', 'a', 'c', 'a', 'c', 'c', 'b', 'a', 'c', 'c', 'f', 'k', '', 'c', 'b', 'c', '', 'e', 'h', 'e', 'h', 'a', 'a', 'c', 'a', 'k', '', 'b', 'g', 'e', 'f', 'd', 'b', 'b', 'i', 'a', '', 'a', 'g', 'b', 'c', 'f', 'f', 'a', 'e', 'd', 'c', 'e', 'e', 'd', 'd', 'b', 'e', 'b', 'd', 'a', 'c', 'd', 'k', 'd', 'i', 'b', 'e', 'g', 'h', 'b', 'a', 'b', 'a', 'd', 'g', 'k', 'b', 'c', 'c', 'a', 'e', '', 'a', 'f', 'a', 'b', 'b', 'c', 'g', 'a', 'f', 'a', 'd', 'k', '', 'a', 'k', 'a', 'e', 'a', 'e', 'e', 'c', 'f', 'f', 'd', 'd', 'k', 'e', 'c', 'b', 'a', 'a', 'd', '', 'b', 'e', 'd', 'g', 'b', 'f', 'c', 'b', 'g', 'd', 'b', 'a', 'h', 'c', 'b', 'k', 'f', 'd', 'b', '', 'k', 'e', 'a', 'c', 'c', 'a', 'e', 'b', 'b', 'g', 'k', 'b', 'b', 'e', 'e', 'g', 'b', 'c', 'a', 'd', 'd', 'a', 'e', 'a', 'a', 'f', 'e', 'a', 'e', 'b', 'g', 'f', 'a', 'a', 'a', 'a', 'c', 'd', 'g', 'a', 'b', 'f', '', 'b', '', 'f', 'a', 'b', 'c', 'e', 'i', 'g', 'a', 'i', 'b', 'a', 'a', 'b', 'b', 'b', 'a', 'e', 'a', 'a', 'k', 'e', 'd', 'a', 'e', 'g', 'b', 'a', 'a', 'a', 'c', 'g', 'g', 'e', 'b', 'e', 'e', 'f', 'b', 'g', 'a', 'b', 'd', 'a', 'a', 'k', 'c', 'f', 'a', 'a', 'a', '[UNK]', 'a', 'g', 'b', 'a', 'd', 'b', 'b', 'b', 'a', '[UNK]', 'g', 'a', 'a', '[UNK]', 'b', 'f', 'f', 'g', 'd', 'c', 'g', 'a', 'a', '', 'f', 'd', 'd', '[UNK]', 'a', 'c', 'a', 'b', 'e', 'a', 'd', '', 'b', 'b', '', 'a', 'a', 'f', 'b', 'c', 'c', 'f', 'd', 'b', 'a', 'b', 'd', 'a', 'c', 'a', 'd', '', 'e', 'f', 'a', 'i', 'f', 'h', 'b', 'c', 'b', 'd', 'g', 'a', 'g', 'c', 'b', '', 'f', 'a', 'c', 'g', '', 'a', 'a', 'g', 'g', 'b', 'b', 'c', 'g', 'd', 'a', 'c', 'd', 'd', 'c', 'e', 'a', 'a', 'd', 'g', 'a', 'g', 'd', 'a', 'b', 'c', 'f', 'b', '', 'c', 'e', 'i', 'f', 'c', 'd', 'c', 'e', 'a', 'd', 'f', 'd', 'b', 'e', 'd', 'b', 'a', 'g', 'h', 'a', 'b', 'c', 'e', 'i', 'd', '', 'e', 'a', 'a', 'b', 'a', 'f', 'a', 'g', 'b', 'e', 'c', 'c', 'd', 'b', 'c', 'g', 'a', 'a', '', 'c', 'g', 'e', 'k', '', 'd', 'a', 'b', 'a', 'b', 'd', 'd', 'g', 'd', 'e', 'a', 'e', '', 'c', 'e', 'f', 'i', 'c', 'b', 'd', 'i', 'c', 'e', 'b', '', '[UNK]', 'b', 'e', 'a', 'c', 'd', 'e', 'g', 'd', 'b', 'e', 'c', 'e', 'a', 'd', 'b', 'f', 'f', 'f', 'a', 'i', '[UNK]', 'd', 'c', 'f', 'c', 'b', 'b', 'c', 'b', 'f', 'a', 'f', 'd', 'a', 'c', 'f', 'f', 'g', 'e', 'e', 'd', 'a', 'f', 'a', 'a', 'a', 'b', 'd', 'h', 'b', 'c', 'd', 'a', 'g', 'd', 'b', 'a', 'f', 'a', 'f', 'a', '', 'g', '[UNK]', 'g', 'e', 'b', 'd', 'a', '', 'c', 'e', 'b', 'a', 'c', 'a', 'b', 'a', 'a', 'e', 'a', 'd', 'b', '', 'e', 'a', 'f', 'e', 'f', 'f', 'd', 'a', 'a', 'b', 'a', 'e', 'b', 'd', 'g', 'g', 'b', 'g', 'a', 'c', 'b', 'b', 'g', 'e', 'f', 'e', 'c', 'c', 'd', 'a', 'i', 'k', 'a', 'e', '[UNK]', 'c', 'g', 'g', 'f', 'c', 'c', 'f', 'a', 'd', 'g', 'g', 'g', 'd', 'g', 'e', 'i', 'c', 'b', '[UNK]', 'a', 'a', 'g', 'b', 'a', '', '', 'd', 'f', 'd', 'a', 'd', 'g', 'a', 'a', 'e', 'a', 'g', 'c', 'c', 'b', 'f', 'e', 'e', 'f', '', 'g', 'b', 'g', 'a', '[UNK]', 'd', 'b', 'c', 'b', 'a', 'd', 'g', 'b', 'b', 'f', 'e', 'd', 'a', 'g', 'a', 'g', 'g', 'a', 'c', 'a', 'h', 'a', 'a', 'e', 'b', 'b', 'g', 'b', 'a', 'f', 'f', 'a', 'c', 'a', 'd', 'c', 'f', 'd', 'e', 'b', 'd', 'g', 'd', 'c', 'd', 'e', 'f', 'f', 'd', 'b', 'b', 'g', 'a', '', 'b', 'b', 'd', 'a', 'd', 'e', 'c', 'a', 'c', 'a', 'f', 'd', '', 'a', 'a', 'f', 'i', 'e', 'a', 'e', 'c', 'a', 'c', 'e', 'a', 'd', 'a', 'b', 'd', 'a', 'a', 'c', 'i', 'e', 'c', 'c', 'a', 'e', 'a', 'a', 'c', 'e', 'a', 'e', 'f', 'b', 'e', 'i', 'a', 'a', 'a', 'g', 'e', 'i', 'g', 'f', 'b', 'i', 'a', 'a', 'g', '[UNK]', 'a', 'a', 'g', 'a', 'a', 'a', 'g', 'g', '', 'a', 'b', 'a', '[UNK]', 'c', 'b', 'd', 'f', 'a', 'b', 'c', 'b', 'c', 'e', 'g', 'f', 'c', 'c', 'k', 'f', 'b', 'a', 'a', 'k', 'a', 'a', 'b', 'b', 'a', 'e', 'i', 'b', 'b', 'a', 'f', 'b', 'g', 'g', 'a', 'a', 'a', 'f', 'e', 'f', 'g', 'g', 'a', '[UNK]', 'e', 'e', 'f', 'g', 'e', 'a', 'f', 'd', 'c', 'f', 'h', 'c', 'b', 'a', 'g', 'e', 'a', 'h', 'a', 'g', 'b', 'a', 'f', 'a', '', 'a', 'd', 'c', 'i', 'c', 'c', 'd', 'c', 'a', 'a', 'b', 'f', 'f', 'a', 'a', 'c', 'c', 'g', 'c', 'a', 'e', 'a', 'a', 'a', 'a', 'f', 'a', 'c', 'a', 'a', 'c', 'a', 'c', 'e', 'b', 'a', 'e', 'b', 'k', 'i', 'c', 'a', 'g', 'c', 'd', 'c', 'a', 'c', 'b', 'd', 'e', 'a', 'b', 'b', 'b', '[UNK]', 'b', 'c', 'b', 'd', 'f', 'd', 'c', 'b', 'a', 'a', 'a', 'f', 'b', 'a', 'c', 'e', 'b', 'c', 'g', 'c', 'e', 'c', 'd', 'f', 'd', 'k', 'c', 'd', '', '', 'a', 'e', '', 'd', 'f', 'e', 'a', 'b', 'c', 'b', 'a', 'a', 'e', '', 'b', 'b', 'f', 'f', 'd', 'a', 'a', 'b', 'f', 'e', 'd', 'b', 'c', 'a', 'a', '', 'a', 'f', 'd', 'a', 'a', 'a', 'e', 'b', 'a', 'a', '', 'a', 'g', 'd', 'b', 'd', 'b', 'a', 'd', 'i', 'b', 'a', 'b', 'e', 'a', 'b', 'a', 'a', 'e', 'f', 'c', 'c', 'g', 'e', 'd', 'f', 'b', 'a', 'd', 'a', 'b', 'c', 'k', 'e', 'a', 'f', 'e', 'd', 'a', 'k', 'b', 'c', 'd', 'b', 'b', 'b', 'a', '', 'k', 'f', 'a', 'c', 'a', 'e', 'a', 'e', 'h', 'a', 'k', 'a', 'k', 'a', 'a', 'd', 'a', 'e', 'k', 'c', 'f', 'b', 'a', 'g', 'e', 'g', 'e', 'g', '', 'i', 'a', 'f', 'c', '', 'a', 'g', 'e', 'b', 'e', '[UNK]', 'b', 'c', 'e', 'c', 'e', 'f', 'a', 'b', 'f', 'a', 'e', 'c', 'b', 'e', 'd', 'i', 'd', '', 'f', 'b', 'a', 'g', 'a', '', 'a', 'a', 'b', 'a', 'g', 'i', 'b', 'e', 'g', 'd', 'b', 'a', 'g', 'b', 'i', 'c', 'd', 'b', 'a', 'a', 'g', 'e', '', '', 'a', 'a', 'g', 'g', 'g', 'e', 'b', 'a', 'e', 'g', 'b', 'f', 'd', 'a', 'g', 'c', 'a', 'c', 'c', 'h', 'f', 'b', 'f', 'a', 'd', 'g', 'c', 'f', 'a', 'c', 'f', 'e', 'a', 'g', 'c', 'a', 'e', 'c', 'c', 'd', 'f', 'c', 'b', 'a', 'd', 'b', 'c', '', 'g', 'a', 'b', 'k', 'e', 'a', 'g', 'k', 'g', 'a', 'e', 'a', 'g', 'b', 'e', 'k', '', '', 'b', 'c', 'c', 'b', 'k', 'a', 'b', 'b', 'd', 'b', 'h', 'a', 'e', 'a', '', 'c', 'a', 'c', 'b', '', 'a', 'a', 'e', 'f', 'e', 'b', '', 'b', 'k', 'a', 'e', 'g', 'k', 'e', 'b', 'b', 'b', 'b', 'f', 'a', 'a', 'd', 'a', 'c', '[UNK]', 'a', 'e', '', 'd', 'i', '', 'c', 'g', '', 'f', 'b', 'a', 'f', 'f', 'c', 'a', 'e', 'c', 'e', 'd', 'a', 'g', 'e', 'a', 'c', 'g', 'a', 'e', 'b', 'a', 'a', 'b', 'b', 'c', 'g', 'g', 'e', 'b', 'f', 'e', 'g', 'e', 'd', 'g', 'b', 'b', 'k', 'a', 'g', 'k', 'd', 'a', 'a', 'g', 'a', 'f', 'g', 'a', 'c', '', 'e', 'a', 'c', 'c', 'g', 'k', 'k', 'b', 'f', 'b', 'f', 'b', 'c', 'd', 'a', 'c', 'g', 'h', 'a', 'a', 'a', 'g', 'a', 'k', 'g', 'a', 'b', 'a', 'a', 'a', 'a', 'g', 'b', 'a', 'd', 'f', 'e', 'c', 'c', 'e', 'a', 'g', '', 'k', 'f', 'f', 'i', 'a', 'a', 'b', 'f', 'e', 'c', 'a', 'a', 'a', 'b', 'a', 'c', 'e', 'f', 'a', 'a', 'k', 'k', 'g', 'a', 'e', 'g', 'b', 'a', 'b', 'c', 'c', 'g', '', 'c', 'd', 'f', 'f', 'e', 'a', 'a', 'a', 'd', 'g', 'f', '', 'g', 'b', '', 'c', 'd', 'a', 'c', 'd', 'a', 'e', 'k', 'e', '[UNK]', 'g', 'd', 'a', 'k', 'g', 'c', 'e', 'd', 'a', 'f', 'a', 'c', 'e', 'b', 'd', 'c', 'b', 'a', 'a', 'b', 'b', 'd', 'b', 'g', 'a', 'a', 'g', 'c', 'k', '', 'a', 'a', 'c', 'a', 'a', 'k', 'a', 'f', 'f', 'a', 'a', 'g', 'b', 'e', 'c', 'd', '', 'k', 'a', 'a', 'g', 'b', 'a', 'g', 'g', 'a', 'a', 'd', 'f', 'd', 'a', 'h', 'a', 'a', 'f', 'b', 'g', 'b', 'c', '', 'b', 'b', 'k', 'e', 'b', 'e', 'e', 'd', 'f', 'g', 'a', '', 'a', 'g', 'g', 'g', 'a', 'e', 'g', 'e', 'a', 'f', 'a', 'g', 'd', 'f', 'a', 'b', 'e', 'a', 'd', 'e', 'a', 'e', 'e', '', 'b', 'd', 'e', 'g', 'e', 'b', 'f', 'b', 'a', 'a', '[UNK]', 'a', 'a', 'f', 'g', 'a', 'f', 'c', 'e', 'f', '', 'a', 'a', 'e', '', '', 'a', 'a', 'd', 'a', 'b', 'c', 'a', 'e', 'e', 'e', 'g', 'b', 'g', 'g', 'e', 'f', 'f', 'b', 'a', 'a', 'c', 'a', 'g', 'f', 'a', 'a', 'e', 'a', 'f', 'a', 'a', 'a', 'a', 'k', 'h', 'e', 'f', 'e', 'e', 'e', 'b', 'a', 'c', 'd', 'a', 'e', 'e', '', 'a', 'c', 'e', 'a', 'a', 'a', 'a', '', 'a', 'c', 'f', 'c', 'e', 'k', 'c', 'b', 'g', 'c', 'a', 'b', 'a', 'a', 'c', 'b', '', 'b', 'g', 'a', 'h', '', 'g', 'a', 'b', 'e', 'e', 'a', 'c', 'c', 'c', 'c', 'i', 'a', 'd', 'k', 'b', 'a', 'h', 'g', 'c', 'e', 'a', 'a', 'g', 'g', 'g', 'a', 'f', 'e', 'f', 'a', 'b', 'a', 'd', 'f', 'd', 'd', 'a', '[UNK]', '', 'b', 'g', 'a', 'e', 'a', 'a', 'c', 'c', 'a', 'k', 'c', 'a', 'e', 'c', 'e', 'c', 'e', 'g', 'd', 'c', 'b', 'c', 'c', 'f', 'b', 'b', 'a', 'a', 'a', 'd', 'c', 'd', 'e', 'e', 'e', 'f', 'a', 'f', 'c', 'c', 'a', 'f', 'a', 'b', 'd', 'd', 'b', 'a', 'a', 'c', 'd', 'c', 'b', 'e', 'g', 'g', 'f', 'f', 'd', 'c', 'g', 'e', 'a', 'b', 'c', 'a', 'g', '', 'b', 'e', 'g', 'e', 'b', 'd', 'b', 'a', 'g', 'b', '', 'g', 'b', 'c', 'h', 'a', 'a', 'a', 'c', 'e', 'b', 'b', '', 'd', 'a', 'c', 'c', 'c', 'c', 'c', 'a', 'a', 'c', 'a', 'b', 'a', 'a', 'g', 'a', '', 'a', 'b', 'c', '', 'd', 'k', 'b', '', 'g', 'a', 'c', 'a', 'd', 'a', 'f', 'b', 'a', 'b', 'k', 'g', 'd', '', 'a', 'e', 'a', 'b', 'a', 'c', 'b', 'a', 'e', 'a', 'b', 'd', 'a', 'b', 'a', 'c', 'a', 'd', 'e', 'b', 'c', 'e', 'b', 'c', 'c', 'a', 'a', 'a', 'b', 'd', 'f', 'b', 'd', 'c', 'a', 'b', '', 'a', 'b', 'e', 'b', 'g', 'b', 'a', 'g', 'f', 'b', 'f', 'b', 'a', 'c', 'd', 'k', 'a', 'a', 'a', 'e', 'g', 'i', 'f', 'c', 'i', 'a', 'b', 'b', 'f', 'b', 'b', 'a', 'b', 'g', 'f', 'a', 'c', 'g', 'e', 'a', 'k', '', 'g', 'g', 'a', 'a', 'd', 'f', 'b', 'a', 'g', 'a', 'a', 'e', 'd', '', 'e', 'b', 'c', 'g', 'd', 'e', 'a', 'c', 'b', 'e', 'a', '', 'a', 'b', 'b', 'd', 'a', 'c', 'g', 'e', 'a', '[UNK]', 'b', 'd', 'e', 'b', 'd', '[UNK]', 'a', 'd', 'f', 'a', 'f', 'f', 'a', 'g', 'c', 'a', 'g', 'a', 'b', 'k', 'a', 'a', '', 'e', 'b', 'c', 'e', 'b', 'a', 'a', 'f', 'b', 'a', 'b', 'c', 'c', 'e', 'd', 'd', 'd', 'a', 'a', 'c', 'a', 'c', 'b', '[UNK]', 'a', 'g', 'a', 'f', 'g', 'c', 'a', 'd', 'c', 'a', 'g', 'a', '', 'a', 'b', 'c', 'd', '', 'a', 'd', 'a', 'a', 'b', 'e', 'c', 'b', 'a', 'a', 'b', 'b', 'c', 'f', 'f', 'b', 'd', 'a', 'k', 'c', '', 'e', 'f', 'a', 'b', 'a', 'a', 'a', 'b', 'b', 'c', 'a', 'a', 'b', 'a', 'd', 'c', 'c', 'a', '', 'a', 'a', 'g', 'k', 'c', 'e', 'g', 'e', '', 'f', 'e', 'c', '', 'g', 'a', '', 'd', 'i', 'd', 'a', 'e', 'e', 'a', 'b', '', 'e', '', 'a', 'g', 'c', 'g', 'e', 'd', 'e', 'b', 'a', 'h', 'b', 'a', 'c', 'a', 'g', 'c', 'a', 'e', 'c', 'a', 'f', 'a', 'd', 'g', 'c', 'c', 'e', 'b', '[UNK]', 'b', 'b', 'c', 'f', 'a', 'a', 'd', 'a', 'a', 'b', '', 'k', 'c', 'a', 'a', 'f', 'g', 'g', 'i', 'e', 'e', 'a', 'e', 'e', 'g', 'a', 'g', 'g', 'a', 'b', 'b', 'k', 'e', 'g', 'f', 'g', 'c', 'a', 'a', 'a', 'c', 'd', 'd', 'a', 'b', 'a', 'f', 'a', 'b', 'e', 'k', 'g', 'k', 'g', 'c', '', 'b', 'a', 'b', '', 'b', 'f', 'a', 'f', 'f', 'k', 'g', 'f', 'g', 'i', 'd', 'g', 'a', 'f', 'b', 'a', 'e', 'd', 'g', 'g', 'a', 'b', '', '[UNK]', 'a', 'e', 'a', '', 'c', 'b', 'a', 'd', 'b', 'g', 'f', 'd', 'b', '[UNK]', 'b', 'a', 'e', 'b', 'c', 'a', 'b', 'a', 'e', 'c', 'a', 'c', 'a', 'e', 'b', 'a', 'c', 'b', '[UNK]', 'b', '', 'a', 'a', 'e', 'c', 'c', '[UNK]', 'g', 'e', 'a', 'b', 'a', '', 'e', 'd', 'e', 'a', 'd', 'b', 'd', 'a', 'a', 'd', 'a', 'b', 'a', 'a', '', 'a', 'e', 'b', 'd', 'd', 'k', 'c', 'f', 'e', 'b', 'f', 'c', 'g', 'd', 'e', 'e', 'f', 'e', 'g', 'c', 'e', 'a', 'a', 'a', 'd', 'd', 'f', 'g', 'g', 'a', 'a', 'c', 'a', 'e', 'a', '[UNK]', 'c', 'g', 'a', 'a', 'a', 'd', 'd', 'g', 'd', 'b', 'f', '', 'g', 'c', 'a', 'c', 'b', 'a', 'c', 'a', 'k', 'e', 'd', '', 'b', 'a', 'e', 'a', 'g', 'a', 'd', '', 'a', 'b', 'e', 'a', 'a', 'b', '[UNK]', 'b', 'f', 'e', 'g', 'e', '', 'c', 'h', 'd', '', 'd', 'b', 'b', 'a', 'c', 'a', 'a', 'c', 'i', 'e', 'a', 'c', 'c', 'a', 'k', 'd', 'e', 'a', 'b', 'e', '', '', 'a', '', '', 'b', '[UNK]', 'a', 'e', 'c', 'a', 'a', 'a', 'd', 'e', 'a', 'd', 'b', '[UNK]', 'f', 'e', 'g', 'c', 'h', 'a', 'a', 'i', 'g', 'a', 'b', '', 'a', 'a', 'e', 'k', 'c', 'a', 'd', 'a', 'g', '', 'e', 'a', 'b', '', 'c', 'g', 'e', 'b', 'b', 'f', 'a', 'b', 'f', 'b', 'a', 'g', 'c', 'c', 'a', 'b', '', 'e', 'c', 'a', 'd', 'i', 'e', 'b', 'd', 'a', '', 'f', 'e', 'k', 'k', 'e', 'f', 'b', 'b', '', 'b', 'a', 'a', 'b', 'a', 'c', 'k', 'b', 'c', 'd', 'g', 'c', 'a', 'd', 'e', 'f', 'd', 'b', 'd', 'd', 'g', 'b', 'a', 'd', 'a', 'a', '[UNK]', '', 'c', 'a', 'f', 'd', 'f', 'g', 'd', 'e', 'e', 'a', 'g', 'a', 'e', 'd', 'e', 'e', 'a', '', 'g', 'b', 'e', 'c', 'b', 'k', 'd', 'a', 'd', '', 'h', 'e', 'c', 'g', 'k', 'd', 'c', 'b', '', 'g', 'f', 'b', 'g', 'h', 'g', 'd', 'a', 'b', 'e', 'f', 'g', 'k', 'a', 'd', 'a', 'a', 'b', '', '', 'k', 'a', 'a', 'g', 'h', 'b', 'a', 'e', 'c', 'd', 'a', 'b', 'g', 'b', 'e', 'a', 'b', 'g', 'k', 'b', 'e', 'd', 'e', 'd', 'b', 'd', 'd', 'a', 'a', 'c', 'a', 'k', 'd', 'c', 'a', 'd', 'g', '', 'k', 'a', 'c', 'k', 'e', 'e', 'c', 'g', 'b', 'e', 'a', 'f', 'a', 'a', 'b', 'c', 'a', 'f', 'a', 'a', 'k', 'g', 'd', 'a', 'd', 'g', 'b', 'c', 'i', 'a', 'a', '', 'e', 'd', 'i', 'e', 'g', 'd', 'b', 'i', 'c', 'e', 'f', 'a', 'a', 'f', 'g', 'k', 'c', 'e', 'd', 'g', 'g', 'a', 'a', 'e', 'd', 'a', 'a', '[UNK]', 'a', 'g', 'a', 'd', 'a', 'g', '', 'a', 'a', 'a', 'a', '[UNK]', 'b', 'g', '', 'b', 'g', 'b', 'a', 'b', 'c', 'a', '', 'a', 'a', 'e', 'a', 'a', 'a', 'a', 'b', 'g', 'b', 'c', 'a', 'b', 'c', 'd', 'i', 'a', 'd', 'a', 'd', '', 'a', 'g', 'a', 'e', 'g', 'c', 'b', 'g', 'a', 'a', 'e', 'e', 'b', 'c', 'a', 'd', 'e', 'g', 'i', 'd', 'e', 'k', 'c', '', 'b', 'e', 'a', 'e', 'd', 'd', 'i', 'a', 'e', 'a', 'e', 'a', 'e', 'c', 'b', 'a', 'f', 'c', 'a', 'e', 'k', 'a', 'a', 'k', 'e', 'c', 'b', 'e', 'd', '[UNK]', 'e', 'e', 'g', 'i', 'a', 'c', 'e', 'b', 'a', 'a', 'e', 'e', 'e', 'e', 'c', '[UNK]', 'g', 'c', 'e', 'b', 'c', 'a', 'a', 'k', 'g', 'a', 'd', 'a', 'e', 'a', 'c', 'g', 'c', 'a', 'h', '', 'c', 'a', 'f', 'f', 'e', 'd', 'd', 'a', 'c', 'b', 'k', 'k', 'b', 'g', 'k', 'b', 'b', 'h', 'd', 'c', 'd', 'c', 'a', 'g', 'a', '', 'b', 'c', 'c', 'g', 'b', '', 'i', 'g', 'g', 'd', 'k', 'b', 'g', 'c', 'a', 'd', 'c', 'd', 'e', 'b', 'a', 'g', 'f', 'f', 'b', 'd', 'a', '', 'c', 'd', 'a', 'b', 'b', 'c', 'e', 'd', 'c', 'a', 'f', 'e', 'b', 'f', 'd', 'a', 'a', 'd', 'e', 'b', 'b', 'k', 'g', 'b', 'g', 'f', 'g', 'd', 'd', 'g', 'b', 'g', 'g', 'g', 'e', 'd', 'c', 'd', '', 'd', 'k', 'c', 'd', 'b', 'b', 'c', 'h', 'b', 'd', 'e', 'a', 'd', 'e', 'f', 'h', 'k', 'e', 'c', 'd', 'e', 'e', 'e', '', 'a', 'a', 'f', 'f', 'd', 'c', 'f', 'd', 'a', 'a', 'c', 'a', 'b', 'f', 'c', 'a', 'k', '[UNK]', 'c', 'b', 'f', 'b', 'g', 'f', 'e', 'e', 'b', 'a', 'b', 'g', '', 'e', 'g', 'a', 'a', 'f', 'f', 'f', 'b', 'b', 'd', 'a', 'a', 'a', 'e', 'c', 'f', 'd', 'e', 'g', 'd', 'a', 'c', 'c', 'c', 'e', 'd', 'd', '', 'd', 'a', 'd', 'a', 'c', 'a', 'e', 'a', 'c', 'f', 'f', 'c', '', 'c', 'd', 'b', 'e', 'f', 'c', 'c', 'f', 'c', '', 'a', '', '', 'f', 'e', 'c', 'c', 'a', 'k', 'f', 'i', 'g', 'c', 'b', 'e', 'i', 'e', 'd', 'g', 'd', 'h', 'a', 'a', 'g', 'd', 'g', 'c', 'k', 'b', 'a', 'a', 'a', 'a', 'a', 'g', 'c', 'a', '', 'b', 'f', 'c', 'c', 'd', 'c', 'a', 'g', 'a', 'e', 'b', 'e', 'd', 'e', 'd', 'a', 'e', 'c', 'd', 'e', 'c', 'c', 'f', 'k', 'c', 'e', '[UNK]', 'a', '', 'a', 'b', 'b', 'f', 'a', 'a', 'a', 'a', 'e', 'e', 'd', 'd', 'a', 'b', 'e', 'd', 'g', 'a', 'f', 'a', 'g', 'b', 'g', 'd', 'e', 'f', 'e', 'c', 'd', 'g', 'g', 'c', 'd', 'a', 'a', 'b', 'c', 'c', 'a', 'b', 'c', 'b', 'c', 'b', 'a', 'a', 'd', 'a', 'b', 'k', 'a', 'g', 'g', 'i', 'b', 'b', 'a', 'c', 'c', 'b', 'g', 'e', 'k', '', 'h', 'a', 'c', 'a', 'd', 'e', 'a', 'g', 'd', 'g', 'k', 'b', 'a', '', 'd', 'g', 'b', 'h', 'c', 'd', 'e', 'b', 'e', 'g', 'e', 'a', 'd', 'c', 'b', 'c', 'a', 'e', 'f', 'a', 'g', 'a', 'e', 'a', '[UNK]', 'b', 'c', 'b', 'e', 'a', 'e', 'e', 'g', 'c', 'c', 'h', 'c', 'g', 'd', 'c', 'c', 'a', 'c', 'a', 'a', 'b', 'a', 'd', 'a', 'a', 'f', 'e', 'c', 'g', 'g', 'a', 'c', 'f', 'h', 'k', 'c', 'c', 'e', 'b', 'c', 'd', 'b', '', 'a', 'e', 'g', 'g', 'c', 'b', 'h', 'g', 'b', 'a', 'c', 'b', '', 'd', 'a', 'b', 'c', 'a', 'f', 'a', 'e', 'd', 'a', 'c', 'b', 'b', 'g', 'a', 'a', 'd', 'a', 'a', 'f', 'b', 'd', 'a', 'e', 'e', 'a', 'a', 'e', 'b', 'a', 'b', 'd', 'c', 'a', 'g', 'd', 'c', 'h', 'g', 'e', 'b', 'e', 'f', 'e', 'a', 'b', 'd', 'c', 'c', 'c', 'b', 'd', 'i', 'c', 'e', 'd', 'b', 'b', 'b', 'a', 'e', 'g', 'a', 'k', '', 'k', 'b', 'b', 'e', 'a', 'c', 'f', 'd', 'b', 'a', 'k', 'd', 'a', 'c', 'a', '', 'a', 'c', 'c', 'f', 'b', 'a', 'g', 'a', 'b', 'c', 'f', 'a', 'f', 'c', 'a', 'd', 'c', 'g', 'c', 'f', 'e', 'c', 'b', 'a', 'd', 'd', 'd', 'c', 'b', 'c', 'a', 'e', 'b', 'f', 'c', 'a', 'b', 'a', 'k', 'e', 'a', 'e', 'a', 'a', 'd', 'a', '', 'g', '', 'c', 'd', 'g', 'c', 'b', 'c', 'k', 'e', 'd', 'a', 'e', 'a', 'g', '', 'b', 'a', '', 'g', 'c', 'e', 'a', 'c', 'a', 'c', '[UNK]', 'a', 'b', 'b', 'e', 'b', 'b', 'f', 'b', 'b', 'e', 'f', 'f', 'c', 'a', 'f', 'a', '', 'f', 'c', 'b', 'e', 'a', 'c', 'c', 'a', 'g', 'g', 'd', 'c', 'f', 'g', 'd', 'c', '', 'b', 'a', 'a', 'e', 'a', 'g', 'c', 'f', 'g', 'b', 'c', 'd', 'k', 'f', 'f', 'd', 'c', 'f', 'b', 'd', 'a', 'e', 'g', 'a', 'b', 'b', 'd', 'i', 'f', 'b', 'e', 'k', 'f', 'b', 'a', '', 'b', 'b', 'k', 'd', 'k', 'd', 'a', 'e', 'a', 'a', 'k', 'c', 'g', 'b', 'a', 'e', 'b', 'a', 'f', 'a', 'b', 'e', 'f', 'd', 'b', 'b', 'f', 'a', 'b', 'a', 'g', 'c', 'a', 'f', 'd', 'c', 'f', 'f', 'e', 'a', 'c', 'f', 'h', 'i', 'e', 'a', 'b', 'a', 'c', 'a', '', 'b', 'e', 'd', 'f', 'c', 'a', 'c', 'f', 'a', 'a', 'c', '', 'e', 'g', 'c', '[UNK]', 'a', 'c', 'b', 'a', 'g', 'e', 'b', 'b', 'a', 'c', 'f', 'k', 'e', 'h', 'a', 'b', 'a', 'g', 'g', 'a', 'a', 'f', '', 'd', 'k', 'e', 'e', 'f', '', 'f', 'a', 'a', 'g', 'b', 'i', 'e', 'g', 'd', 'g', 'd', 'a', 'e', 'd', 'g', 'a', 'f', '', '', 'e', 'b', 'a', 'b', 'a', 'b', 'b', 'a', 'e', 'c', 'b', 'e', '', 'g', 'd', '', 'a', 'd', 'a', 'f', 'c', 'd', '[UNK]', 'e', 'a', 'b', 'a', 'f', 'e', 'g', 'a', 'a', 'a', 'a', 'c', 'a', 'b', 'b', 'e', 'f', 'i', 'a', 'b', 'i', 'c', 'b', 'g', 'g', 'e', 'e', 'a', '', 'a', '', 'a', 'b', 'g', 'e', 'b', '', 'a', 'b', 'd', 'c', 'd', 'f', 'g', 'a', 'e', 'c', 'c', 'e', 'i', 'd', 'a', '', 'e', 'e', 'b', 'b', 'g', 'f', 'd', 'b', 'b', 'b', 'e', 'b', 'e', 'e', 'f', 'c', 'a', 'b', 'a', 'g', 'a', 'a', 'c', 'k', 'a', 'g', 'b', 'b', 'a', 'b', 'd', 'a', 'c', 'f', 'a', 'a', 'a', 'g', 'c', 'a', 'f', 'b', 'g', 'e', 'b', 'b', 'a', 'a', '', 'c', 'c', 'a', 'a', 'e', 'd', 'd', 'c', '[UNK]', 'g', 'c', 'd', 'e', 'a', 'c', 'c', 'e', 'c', 'a', 'b', 'a', 'g', 'e', 'f', 'f', 'd', '', 'a', 'b', 'f', 'a', 'a', 'a', 'g', 'c', 'e', 'e', 'e', 'c', 'e', 'e', 'c', 'b', 'a', 'a', 'a', 'f', 'c', 'a', 'b', '', 'd', 'a', 'c', 'a', 'd', 'c', 'a', 'd', 'a', 'a', 'b', 'a', 'g', 'k', 'a', 'c', '', 'b', 'a', 'b', 'b', 'c', 'a', 'e', 'a', 'a', 'c', 'g', 'g', 'a', 'a', 'f', 'a', 'a', 'g', '', 'a', 'a', 'f', 'i', 'c', '', 'b', 'f', 'a', 'g', 'd', 'd', 'c', 'c', 'a', 'd', 'e', '', 'b', 'a', 'd', 'a', 'c', 'a', 'a', 'a', 'a', 'a', 'h', 'd', 'a', 'g', 'd', 'd', 'b', 'a', 'a', 'c', '', 'a', 'c', 'i', 'a', 'd', 'f', 'e', 'g', 'c', 'a', 'a', 'e', 'k', 'h', 'd', 'a', 'a', 'f', 'b', 'a', 'c', 'a', 'a', 'f', 'a', 'a', 'b', '[UNK]', 'e', 'd', 'a', 'f', 'b', 'g', 'a', 'a', 'a', 'f', 'b', 'b', 'c', 'f', 'a', '', 'c', 'e', 'a', 'g', 'b', '', 'b', 'b', 'a', 'f', 'a', 'g', 'c', 'd', 'e', 'e', 'a', 'c', 'e', 'c', 'd', 'd', 'c', 'e', 'k', 'f', 'f', 'd', 'c', 'b', 'a', 'a', 'b', 'a', 'c', 'b', 'g', 'e', 'a', 'g', 'a', 'c', 'f', 'f', 'g', 'a', 'h', 'e', 'e', 'b', 'g', 'e', 'b', 'a', 'b', 'b', 'a', 'f', 'c', 'a', 'g', 'g', 'e', 'c', 'k', 'b', 'a', 'a', 'g', 'a', 'c', 'b', 'a', 'b', 'a', 'c', '', 'k', 'a', 'd', 'c', 'b', 'g', 'b', 'a', 'h', 'g', 'a', 'b', 'e', 'c', 'b', 'f', 'a', 'b', 'e', 'b', 'a', 'g', 'd', '', 'd', 'a', 'd', 'f', 'e', 'c', 'b', 'e', 'c', 'e', 'i', 'a', 'a', 'e', 'f', 'a', 'b', 'a', 'a', 'a', 'd', '', 'k', 'b', '', 'b', 'a', 'a', 'f', 'f', 'g', 'e', 'c', '', 'a', 'e', 'e', 'd', 'a', 'd', 'c', 'f', '', 'g', 'a', 'b', 'd', 'g', '', 'a', 'a', 'd', 'a', 'c', 'b', 'k', 'f', 'c', 'a', 'a', 'b', 'c', 'g', 'a', 'e', 'c', 'b', 'g', 'a', 'e', 'a', 'b', 'g', 'e', 'd', 'b', 'g', 'g', 'd', 'c', 'c', 'd', 'k', 'c', 'a', '', 'a', 'c', 'd', 'e', 'f', 'g', 'b', 'b', 'a', 'a', 'd', 'e', 'a', 'a', 'a', 'f', 'c', 'a', '', 'a', 'b', 'g', 'a', 'g', 'c', 'a', 'a', 'a', 'e', '', '[UNK]', 'e', 'f', 'g', 'b', 'c', 'b', 'e', 'b', 'e', 'b', 'g', 'e', 'k', 'f', 'e', 'a', 'a', 'a', 'b', '', 'f', 'f', 'a', 'd', 'e', 'b', 'e', 'e', 'f', 'a', 'b', 'a', 'g', 'e', 'e', 'b', 'b', 'b', 'b', '', 'b', 'c', 'a', 'd', '', 'k', 'c', 'g', 'f', 'a', 'k', 'a', 'a', 'a', 'g', 'c', 'b', 'b', 'c', 'e', 'd', 'a', 'e', '', 'a', 'c', 'k', 'b', 'c', 'e', 'e', 'e', 'd', 'a', 'g', 'b', 'f', 'a', 'i', 'b', 'k', 'e', 'e', 'g', 'e', 'c', 'b', 'g', 'd', 'a', 'c', 'f', 'g', 'd', 'a', 'f', 'g', 'f', 'e', 'a', '[UNK]', 'b', 'f', 'g', 'a', '', 'a', 'g', 'd', 'a', 'a', 'c', 'k', 'g', 'b', 'c', 'a', 'e', '', 'c', 'd', 'a', 'g', 'f', 'a', 'd', 'a', 'a', 'g', 'f', 'k', 'd', 'e', 'f', 'g', 'f', 'e', 'c', 'b', 'e', 'a', 'd', 'c', 'd', 'b', 'b', 'g', 'a', 'c', 'c', 'c', 'b', 'c', 'e', 'a', 'b', 'f', 'a', 'e', 'a', 'a', 'g', 'c', '', 'a', 'd', 'c', '', 'b', 'k', 'b', 'a', 'c', 'd', 'd', 'c', 'b', 'b', 'g', 'd', 'd', 'f', 'e', 'd', 'a', 'd', 'c', 'a', 'g', 'b', 'a', 'a', 'a', 'b', 'b', 'i', 'e', 'i', 'd', 'd', 'a', 'a', 'e', 'a', 'f', 'd', 'e', 'a', 'e', 'd', 'f', 'a', 'd', 'b', 'd', 'e', 'd', 'a', 'f', 'i', 'a', 'c', 'k', 'b', 'e', 'f', 'a', 'g', 'a', 'c', 'f', 'f', 'a', 'b', 'a', 'a', 'a', 'i', 'c', 'c', 'f', 'c', '[UNK]', 'd', '', 'e', 'b', 'f', 'a', 'a', 'a', 'b', 'd', 'd', 'e', 'b', 'a', 'e', 'h', 'd', 'f', 'b', 'e', 'g', 'g', 'b', 'c', 'k', 'f', '', 'a', 'a', 'd', 'b', 'c', 'b', 'd', 'a', 'b', 'g', 'a', 'b', 'b', '', 'g', '', 'd', 'c', 'a', 'g', '', 'h', 'a', 'h', 'b', 'd', 'd', 'a', 'i', 'd', 'b', 'a', 'k', 'a', 'd', 'f', 'f', 'f', 'c', 'i', 'g', 'a', 'a', 'b', 'e', 'b', 'g', 'e', 'c', 'a', 'c', 'b', 'd', 'c', 'b', 'e', 'b', 'd', 'g', 'e', 'e', 'f', 'a', 'c', 'e', 'a', 'a', 'a', 'b', 'e', 'e', 'c', 'f', 'c', 'e', 'g', 'e', 'a', '', '', 'a', 'c', 'a', 'a', 'c', 'f', 'b', 'g', 'k', '', 'f', 'd', 'a', 'e', 'e', '', 'g', 'a', 'b', 'c', 'g', 'a', 'b', '[UNK]', 'c', 'a', 'g', 'a', 'e', 'a', 'e', 'e', 'a', 'f', 'e', 'a', 'g', '', '', 'a', 'e', 'g', 'g', 'b', 'a', 'c', 'e', 'f', 'a', 'g', 'f', 'e', 'b', 'f', 'f', 'd', 'a', 'i', 'b', 'd', 'd', 'f', 'e', 'g', 'b', 'g', 'a', 'g', 'k', 'd', 'g', '', 'e', 'c', 'd', 'e', 'a', 'a', 'g', 'd', 'k', 'f', 'a', 'd', 'e', 'g', 'd', 'a', 'a', 'b', 'b', 'e', 'e', 'a', 'a', '[UNK]', 'd', 'd', 'a', '[UNK]', 'g', 'g', 'a', 'k', 'a', 'c', 'f', 'f', 'g', 'k', 'b', 'b', 'g', 'e', 'e', 'c', 'k', 'g', 'g', 'c', 'd', 'b', 'b', 'k', 'b', 'a', 'd', 'c', 'k', 'a', 'a', 'a', 'd', 'a', 'a', 'a', 'g', 'g', 'b', 'g', 'd', 'b', 'c', 'g', 'g', 'k', 'a', 'g', 'b', 'f', 'd', 'a', 'h', 'a', 'd', 'a', 'e', 'g', 'c', 'a', 'a', 'f', 'c', 'f', 'a', 'b', 'a', 'c', 'k', 'b', 'e', 'k', 'a', 'b', 'f', 'b', 'a', 'g', 'c', 'e', 'a', 'e', 'a', 'a', 'f', '', 'a', 'c', 'c', 'b', 'a', '', 'g', 'f', 'f', 'f', 'b', 'g', 'b', 'a', 'a', '', 'd']\n"
          ]
        }
      ]
    }
  ],
  "metadata": {
    "accelerator": "GPU",
    "colab": {
      "provenance": []
    },
    "gpuClass": "standard",
    "kernelspec": {
      "display_name": "Python 3",
      "name": "python3"
    },
    "language_info": {
      "name": "python"
    }
  },
  "nbformat": 4,
  "nbformat_minor": 0
}